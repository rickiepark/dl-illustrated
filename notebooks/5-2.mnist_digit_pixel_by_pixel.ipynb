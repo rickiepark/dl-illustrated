{
  "nbformat": 4,
  "nbformat_minor": 0,
  "metadata": {
    "kernelspec": {
      "display_name": "TensorFlow 2.3 on Python 3.6 (CUDA 10.1)",
      "language": "python",
      "name": "python3"
    },
    "language_info": {
      "codemirror_mode": {
        "name": "ipython",
        "version": 3
      },
      "file_extension": ".py",
      "mimetype": "text/x-python",
      "name": "python",
      "nbconvert_exporter": "python",
      "pygments_lexer": "ipython3",
      "version": "3.6.9"
    },
    "colab": {
      "name": "5-2.mnist_digit_pixel_by_pixel.ipynb",
      "provenance": []
    },
    "accelerator": "GPU",
    "gpuClass": "standard"
  },
  "cells": [
    {
      "cell_type": "markdown",
      "metadata": {
        "id": "rwSXLcpRxFsm"
      },
      "source": [
        "# MNIST 숫자의 픽셀 이미지"
      ]
    },
    {
      "cell_type": "markdown",
      "metadata": {
        "id": "IgloWZipxFsv"
      },
      "source": [
        "MNIST 숫자를 적재하고 자세한 픽셀 수준의 그림을 그립니다. "
      ]
    },
    {
      "cell_type": "markdown",
      "metadata": {
        "id": "YQRCCtWrxFsv"
      },
      "source": [
        "[![Open In Colab](https://colab.research.google.com/assets/colab-badge.svg)](https://colab.research.google.com/github/rickiepark/dl-illustrated/blob/master/notebooks/5-2.mnist_digit_pixel_by_pixel.ipynb)"
      ]
    },
    {
      "cell_type": "markdown",
      "metadata": {
        "id": "kGv8yy3KxFsw"
      },
      "source": [
        "#### 라이브러리 적재"
      ]
    },
    {
      "cell_type": "code",
      "metadata": {
        "id": "9AgJO7t6xFsw"
      },
      "source": [
        "from matplotlib import pyplot as plt\n",
        "import numpy as np\n",
        "from tensorflow.keras.datasets import mnist"
      ],
      "execution_count": 1,
      "outputs": []
    },
    {
      "cell_type": "markdown",
      "metadata": {
        "id": "Pn0ZeUzexFsw"
      },
      "source": [
        "#### 데이터 적재"
      ]
    },
    {
      "cell_type": "code",
      "metadata": {
        "id": "GMhrjLQBxFsw",
        "colab": {
          "base_uri": "https://localhost:8080/"
        },
        "outputId": "454b9c1d-12a2-4f7c-f924-27e94d3ba26c"
      },
      "source": [
        "(X_train, y_train), (X_test, y_valid) = mnist.load_data()"
      ],
      "execution_count": 2,
      "outputs": [
        {
          "output_type": "stream",
          "name": "stdout",
          "text": [
            "Downloading data from https://storage.googleapis.com/tensorflow/tf-keras-datasets/mnist.npz\n",
            "11490434/11490434 [==============================] - 0s 0us/step\n"
          ]
        }
      ]
    },
    {
      "cell_type": "markdown",
      "metadata": {
        "id": "cdb95CVuxFsx"
      },
      "source": [
        "#### 이미지 샘플링"
      ]
    },
    {
      "cell_type": "code",
      "metadata": {
        "id": "oVg0hkGMxFsx"
      },
      "source": [
        "# sample = np.random.randint(0, X_train.shape[0])\n",
        "sample = 39235"
      ],
      "execution_count": 3,
      "outputs": []
    },
    {
      "cell_type": "markdown",
      "metadata": {
        "id": "ltKZyg1gxFsx"
      },
      "source": [
        "#### 숫자 출력"
      ]
    },
    {
      "cell_type": "code",
      "metadata": {
        "id": "-I2CX1cqxFsx",
        "colab": {
          "base_uri": "https://localhost:8080/",
          "height": 558
        },
        "outputId": "9927cdb1-a3f1-48bf-f634-6da3f101a1b0"
      },
      "source": [
        "plt.figure(figsize = (10,10))\n",
        "mnist_img = X_train[sample]\n",
        "plt.imshow(mnist_img,cmap=\"Greys\")\n",
        "ax = plt.gca()\n",
        "\n",
        "# First turn off the  major labels, but not the major ticks\n",
        "plt.tick_params(\n",
        "    axis='both',        # changes apply to the both x and y axes\n",
        "    which='major',      # Change the major ticks only\n",
        "    bottom=True,        # ticks along the bottom edge are on\n",
        "    left=True,          # ticks along the top edge are on\n",
        "    labelbottom=False,  # labels along the bottom edge are off\n",
        "    labelleft=False)    # labels along the left edge are off\n",
        "\n",
        "# Next turn off the minor ticks, but not the minor labels\n",
        "plt.tick_params(\n",
        "    axis='both',        # changes apply to both x and y axes\n",
        "    which='minor',      # Change the minor ticks only\n",
        "    bottom=False,       # ticks along the bottom edge are off\n",
        "    left=False,         # ticks along the left edge are off\n",
        "    labelbottom=True,   # labels along the bottom edge are on\n",
        "    labelleft=True)     # labels along the left edge are on\n",
        "\n",
        "# Set the major ticks, starting at 1 (the -0.5 tick gets hidden off the canvas)\n",
        "ax.set_xticks(np.arange(-.5, 28, 1))\n",
        "ax.set_yticks(np.arange(-.5, 28, 1))\n",
        "\n",
        "# Set the minor ticks and labels\n",
        "ax.set_xticks(np.arange(0, 28, 1), minor=True);\n",
        "ax.set_xticklabels([str(i) for i in np.arange(0, 28, 1)], minor=True);\n",
        "ax.set_yticks(np.arange(0, 28, 1), minor=True);\n",
        "ax.set_yticklabels([str(i) for i in np.arange(0, 28, 1)], minor=True);\n",
        "\n",
        "ax.grid(color='black', linestyle='-', linewidth=1.5)\n",
        "_ = plt.colorbar(fraction=0.046, pad=0.04, ticks=[0,32,64,96,128,160,192,224,255])"
      ],
      "execution_count": 4,
      "outputs": [
        {
          "output_type": "display_data",
          "data": {
            "text/plain": [
              "<Figure size 720x720 with 2 Axes>"
            ],
            "image/png": "[encoded data removed]"
          },
          "metadata": {
            "needs_background": "light"
          }
        }
      ]
    },
    {
      "cell_type": "markdown",
      "metadata": {
        "id": "ygWPNms5xFsy"
      },
      "source": [
        "#### 이미지 레이블 확인"
      ]
    },
    {
      "cell_type": "code",
      "metadata": {
        "id": "X7Y6DpNGxFsy",
        "colab": {
          "base_uri": "https://localhost:8080/"
        },
        "outputId": "2d8c9378-defe-40a6-8c73-b4ff4ec03116"
      },
      "source": [
        "y_train[sample]"
      ],
      "execution_count": 5,
      "outputs": [
        {
          "output_type": "execute_result",
          "data": {
            "text/plain": [
              "3"
            ]
          },
          "metadata": {},
          "execution_count": 5
        }
      ]
    }
  ]
}