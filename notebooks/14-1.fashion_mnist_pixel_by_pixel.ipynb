{
  "nbformat": 4,
  "nbformat_minor": 0,
  "metadata": {
    "kernelspec": {
      "display_name": "TensorFlow 2.3 on Python 3.6 (CUDA 10.1)",
      "language": "python",
      "name": "python3"
    },
    "language_info": {
      "codemirror_mode": {
        "name": "ipython",
        "version": 3
      },
      "file_extension": ".py",
      "mimetype": "text/x-python",
      "name": "python",
      "nbconvert_exporter": "python",
      "pygments_lexer": "ipython3",
      "version": "3.6.9"
    },
    "colab": {
      "name": "14-1.fashion_mnist_pixel_by_pixel.ipynb",
      "provenance": []
    },
    "gpuClass": "standard"
  },
  "cells": [
    {
      "cell_type": "markdown",
      "metadata": {
        "id": "Tf-QDkhB52vr"
      },
      "source": [
        "# 패션 MNIST"
      ]
    },
    {
      "cell_type": "markdown",
      "metadata": {
        "id": "ziKTj9At52vv"
      },
      "source": [
        "[5-2.mnist_digit_pixel_by_pixel.ipynb](5-2.mnist_digit_pixel_by_pixel.ipynb) 노트북을 재사용하여 패션 MNIST 이미지를 출력합니다."
      ]
    },
    {
      "cell_type": "markdown",
      "metadata": {
        "id": "zdn_pYrq52vw"
      },
      "source": [
        "[![Open In Colab](https://colab.research.google.com/assets/colab-badge.svg)](https://colab.research.google.com/github/rickiepark/dl-illustrated/blob/master/notebooks/14-1.fashion_mnist_pixel_by_pixel.ipynb)"
      ]
    },
    {
      "cell_type": "markdown",
      "metadata": {
        "id": "vjZXiGFJ52vw"
      },
      "source": [
        "#### 라이브러리 적재"
      ]
    },
    {
      "cell_type": "code",
      "metadata": {
        "id": "agAnVKTO52vw"
      },
      "source": [
        "from matplotlib import pyplot as plt\n",
        "from tensorflow.keras.datasets import fashion_mnist\n",
        "import numpy as np"
      ],
      "execution_count": 1,
      "outputs": []
    },
    {
      "cell_type": "markdown",
      "metadata": {
        "id": "GDav2JZJ52vx"
      },
      "source": [
        "#### 데이터 적재"
      ]
    },
    {
      "cell_type": "code",
      "metadata": {
        "id": "4rr3QRrU52vx",
        "colab": {
          "base_uri": "https://localhost:8080/"
        },
        "outputId": "97c4bcfd-3fde-43a0-88b2-1679465a11c5"
      },
      "source": [
        "(X_train, y_train), (X_valid, y_valid) = fashion_mnist.load_data()"
      ],
      "execution_count": 2,
      "outputs": [
        {
          "output_type": "stream",
          "name": "stdout",
          "text": [
            "Downloading data from https://storage.googleapis.com/tensorflow/tf-keras-datasets/train-labels-idx1-ubyte.gz\n",
            "29515/29515 [==============================] - 0s 0us/step\n",
            "Downloading data from https://storage.googleapis.com/tensorflow/tf-keras-datasets/train-images-idx3-ubyte.gz\n",
            "26421880/26421880 [==============================] - 0s 0us/step\n",
            "Downloading data from https://storage.googleapis.com/tensorflow/tf-keras-datasets/t10k-labels-idx1-ubyte.gz\n",
            "5148/5148 [==============================] - 0s 0us/step\n",
            "Downloading data from https://storage.googleapis.com/tensorflow/tf-keras-datasets/t10k-images-idx3-ubyte.gz\n",
            "4422102/4422102 [==============================] - 0s 0us/step\n"
          ]
        }
      ]
    },
    {
      "cell_type": "markdown",
      "metadata": {
        "id": "4hsl_-qI52vy"
      },
      "source": [
        "#### 이미지 샘플"
      ]
    },
    {
      "cell_type": "code",
      "metadata": {
        "id": "0v9Y4IjH52vy"
      },
      "source": [
        "# sample = np.random.randint(0, X_train.shape[0])\n",
        "sample = 39235"
      ],
      "execution_count": 3,
      "outputs": []
    },
    {
      "cell_type": "markdown",
      "metadata": {
        "id": "W7qkl0W352vy"
      },
      "source": [
        "#### 이미지 출력"
      ]
    },
    {
      "cell_type": "code",
      "metadata": {
        "id": "V_S-DT7m52vy",
        "colab": {
          "base_uri": "https://localhost:8080/",
          "height": 562
        },
        "outputId": "b615e15f-f6ff-4b6f-b972-7aad38a283e2"
      },
      "source": [
        "plt.figure(figsize = (10,10))\n",
        "mnist_img = X_train[sample]\n",
        "plt.imshow(mnist_img,cmap=\"Greys\")\n",
        "ax = plt.gca()\n",
        "\n",
        "# First turn off the  major labels, but not the major ticks\n",
        "plt.tick_params(\n",
        "    axis='both',        # changes apply to the both x and y axes\n",
        "    which='major',      # Change the major ticks only\n",
        "    bottom=True,        # ticks along the bottom edge are on\n",
        "    left=True,          # ticks along the top edge are on\n",
        "    labelbottom=False,  # labels along the bottom edge are off\n",
        "    labelleft=False)    # labels along the left edge are off\n",
        "\n",
        "# Next turn off the minor ticks, but not the minor labels\n",
        "plt.tick_params(\n",
        "    axis='both',        # changes apply to both x and y axes\n",
        "    which='minor',      # Change the minor ticks only\n",
        "    bottom=False,       # ticks along the bottom edge are off\n",
        "    left=False,         # ticks along the left edge are off\n",
        "    labelbottom=True,   # labels along the bottom edge are on\n",
        "    labelleft=True)     # labels along the left edge are on\n",
        "\n",
        "# Set the major ticks, starting at 1 (the -0.5 tick gets hidden off the canvas)\n",
        "ax.set_xticks(np.arange(-.5, 28, 1))\n",
        "ax.set_yticks(np.arange(-.5, 28, 1))\n",
        "\n",
        "# Set the minor ticks and labels\n",
        "ax.set_xticks(np.arange(0, 28, 1), minor=True);\n",
        "ax.set_xticklabels([str(i) for i in np.arange(0, 28, 1)], minor=True);\n",
        "ax.set_yticks(np.arange(0, 28, 1), minor=True);\n",
        "ax.set_yticklabels([str(i) for i in np.arange(0, 28, 1)], minor=True);\n",
        "\n",
        "ax.grid(color='black', linestyle='-', linewidth=1.5)\n",
        "_ = plt.colorbar(fraction=0.046, pad=0.04, ticks=[0,32,64,96,128,160,192,224,255])"
      ],
      "execution_count": 4,
      "outputs": [
        {
          "output_type": "display_data",
          "data": {
            "text/plain": [
              "<Figure size 720x720 with 2 Axes>"
            ],
            "image/png": "[encoded data removed]"
          },
          "metadata": {
            "needs_background": "light"
          }
        }
      ]
    },
    {
      "cell_type": "markdown",
      "metadata": {
        "id": "5pLcFUFm52vz"
      },
      "source": [
        "#### 이미지 레이블 확인"
      ]
    },
    {
      "cell_type": "code",
      "metadata": {
        "id": "8ujmWS1V52vz",
        "colab": {
          "base_uri": "https://localhost:8080/"
        },
        "outputId": "abf1e124-325c-45d9-d916-15558056411c"
      },
      "source": [
        "y_train[sample]"
      ],
      "execution_count": 5,
      "outputs": [
        {
          "output_type": "execute_result",
          "data": {
            "text/plain": [
              "9"
            ]
          },
          "metadata": {},
          "execution_count": 5
        }
      ]
    }
  ]
}