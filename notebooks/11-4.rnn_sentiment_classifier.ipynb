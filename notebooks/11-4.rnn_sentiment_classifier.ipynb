{
  "nbformat": 4,
  "nbformat_minor": 0,
  "metadata": {
    "kernelspec": {
      "display_name": "TensorFlow 2.3 on Python 3.6 (CUDA 10.1)",
      "language": "python",
      "name": "python3"
    },
    "language_info": {
      "codemirror_mode": {
        "name": "ipython",
        "version": 3
      },
      "file_extension": ".py",
      "mimetype": "text/x-python",
      "name": "python",
      "nbconvert_exporter": "python",
      "pygments_lexer": "ipython3",
      "version": "3.6.9"
    },
    "colab": {
      "name": "11-4.rnn_sentiment_classifier.ipynb",
      "provenance": []
    },
    "accelerator": "GPU"
  },
  "cells": [
    {
      "cell_type": "markdown",
      "metadata": {
        "id": "fl8VG9enicGG"
      },
      "source": [
        "# RNN 감성 분류기"
      ]
    },
    {
      "cell_type": "markdown",
      "metadata": {
        "id": "reAVjNDQicGK"
      },
      "source": [
        "이 노트북에서 RNN을 사용해 감성에 따라 IMDB 영화 리뷰를 분류합니다."
      ]
    },
    {
      "cell_type": "markdown",
      "metadata": {
        "id": "orUztv6SicGL"
      },
      "source": [
        "[![Open In Colab](https://colab.research.google.com/assets/colab-badge.svg)](https://colab.research.google.com/github/rickiepark/dl-illustrated/blob/master/notebooks/11-4.rnn_sentiment_classifier.ipynb)"
      ]
    },
    {
      "cell_type": "markdown",
      "metadata": {
        "id": "YJ9teMgbicGL"
      },
      "source": [
        "#### 라이브러리를 적재합니다."
      ]
    },
    {
      "cell_type": "code",
      "metadata": {
        "id": "N7feftmSicGL"
      },
      "source": [
        "from tensorflow import keras\n",
        "from tensorflow.keras.datasets import imdb\n",
        "from tensorflow.keras.preprocessing.sequence import pad_sequences\n",
        "from tensorflow.keras.models import Sequential\n",
        "from tensorflow.keras.layers import Dense, Dropout, Embedding, SpatialDropout1D\n",
        "from tensorflow.keras.layers import SimpleRNN # new! \n",
        "from tensorflow.keras.callbacks import ModelCheckpoint\n",
        "import os\n",
        "from sklearn.metrics import roc_auc_score \n",
        "import matplotlib.pyplot as plt \n",
        "%matplotlib inline"
      ],
      "execution_count": 1,
      "outputs": []
    },
    {
      "cell_type": "markdown",
      "metadata": {
        "id": "PxsYoFXoicGM"
      },
      "source": [
        "#### 하이퍼파라미터를 설정합니다."
      ]
    },
    {
      "cell_type": "code",
      "metadata": {
        "id": "8z9MJQf3icGM"
      },
      "source": [
        "# 출력 디렉토리\n",
        "output_dir = 'model_output/rnn'\n",
        "\n",
        "# 훈련\n",
        "epochs = 16 # 더 많이!\n",
        "batch_size = 128\n",
        "\n",
        "# 벡터 공간 임베딩\n",
        "n_dim = 64 \n",
        "n_unique_words = 10000 \n",
        "max_review_length = 100 # 시간에 따른 그레이디언트 소실 때문에 낮춤\n",
        "pad_type = trunc_type = 'pre'\n",
        "drop_embed = 0.2 \n",
        "\n",
        "# RNN 층 구조\n",
        "n_rnn = 256 \n",
        "drop_rnn = 0.2\n",
        "\n",
        "# 밀집 층 구조\n",
        "# n_dense = 256\n",
        "# dropout = 0.2"
      ],
      "execution_count": 2,
      "outputs": []
    },
    {
      "cell_type": "markdown",
      "metadata": {
        "id": "FLXby5f-icGM"
      },
      "source": [
        "#### 데이터를 적재합니다."
      ]
    },
    {
      "cell_type": "code",
      "metadata": {
        "id": "d7nK-B-cicGM",
        "colab": {
          "base_uri": "https://localhost:8080/"
        },
        "outputId": "ac7affd4-a42f-43c8-c367-a693d8c5e400"
      },
      "source": [
        "(x_train, y_train), (x_valid, y_valid) = imdb.load_data(num_words=n_unique_words) # n_words_to_skip 삭제"
      ],
      "execution_count": 3,
      "outputs": [
        {
          "output_type": "stream",
          "name": "stdout",
          "text": [
            "Downloading data from https://storage.googleapis.com/tensorflow/tf-keras-datasets/imdb.npz\n",
            "17464789/17464789 [==============================] - 1s 0us/step\n"
          ]
        }
      ]
    },
    {
      "cell_type": "markdown",
      "metadata": {
        "id": "YI1-tFkiicGM"
      },
      "source": [
        "#### 데이터를 전처리합니다."
      ]
    },
    {
      "cell_type": "code",
      "metadata": {
        "id": "UiARILnJicGN"
      },
      "source": [
        "x_train = pad_sequences(x_train, maxlen=max_review_length, padding=pad_type, truncating=trunc_type, value=0)\n",
        "x_valid = pad_sequences(x_valid, maxlen=max_review_length, padding=pad_type, truncating=trunc_type, value=0)"
      ],
      "execution_count": 4,
      "outputs": []
    },
    {
      "cell_type": "markdown",
      "metadata": {
        "collapsed": true,
        "id": "ZQ_Bb0-LicGN"
      },
      "source": [
        "#### 신경망 만들기"
      ]
    },
    {
      "cell_type": "code",
      "metadata": {
        "id": "JQoJSqO1icGN"
      },
      "source": [
        "model = Sequential()\n",
        "model.add(Embedding(n_unique_words, n_dim, input_length=max_review_length)) \n",
        "model.add(SpatialDropout1D(drop_embed))\n",
        "model.add(SimpleRNN(n_rnn, dropout=drop_rnn))\n",
        "# model.add(Dense(n_dense, activation='relu')) # 일반적으로 NLP에서는 밀집 층을 위에 놓지 않습니다.\n",
        "# model.add(Dropout(dropout))\n",
        "model.add(Dense(1, activation='sigmoid'))"
      ],
      "execution_count": 5,
      "outputs": []
    },
    {
      "cell_type": "code",
      "metadata": {
        "id": "ZQpDJZXticGN",
        "colab": {
          "base_uri": "https://localhost:8080/"
        },
        "outputId": "a863e69b-1a4a-4107-d829-5f9ea9fd2b1e"
      },
      "source": [
        "model.summary() "
      ],
      "execution_count": 6,
      "outputs": [
        {
          "output_type": "stream",
          "name": "stdout",
          "text": [
            "Model: \"sequential\"\n",
            "_________________________________________________________________\n",
            " Layer (type)                Output Shape              Param #   \n",
            "=================================================================\n",
            " embedding (Embedding)       (None, 100, 64)           640000    \n",
            "                                                                 \n",
            " spatial_dropout1d (SpatialD  (None, 100, 64)          0         \n",
            " ropout1D)                                                       \n",
            "                                                                 \n",
            " simple_rnn (SimpleRNN)      (None, 256)               82176     \n",
            "                                                                 \n",
            " dense (Dense)               (None, 1)                 257       \n",
            "                                                                 \n",
            "=================================================================\n",
            "Total params: 722,433\n",
            "Trainable params: 722,433\n",
            "Non-trainable params: 0\n",
            "_________________________________________________________________\n"
          ]
        }
      ]
    },
    {
      "cell_type": "markdown",
      "metadata": {
        "id": "gybhPuapicGO"
      },
      "source": [
        "#### 모델 설정"
      ]
    },
    {
      "cell_type": "code",
      "metadata": {
        "id": "stvu9V4qicGO"
      },
      "source": [
        "model.compile(loss='binary_crossentropy', optimizer='adam', metrics=['accuracy'])"
      ],
      "execution_count": 7,
      "outputs": []
    },
    {
      "cell_type": "code",
      "metadata": {
        "id": "pSJq2Y0VicGO"
      },
      "source": [
        "modelcheckpoint = ModelCheckpoint(filepath=output_dir+\"/weights.{epoch:02d}.hdf5\")\n",
        "if not os.path.exists(output_dir):\n",
        "    os.makedirs(output_dir)"
      ],
      "execution_count": 8,
      "outputs": []
    },
    {
      "cell_type": "markdown",
      "metadata": {
        "id": "WjCW_-oSicGO"
      },
      "source": [
        "#### 훈련!"
      ]
    },
    {
      "cell_type": "code",
      "metadata": {
        "id": "7mKYC5oFicGO",
        "colab": {
          "base_uri": "https://localhost:8080/"
        },
        "outputId": "64da3023-7aa4-406f-96e1-16b288557b0b"
      },
      "source": [
        "model.fit(x_train, y_train, batch_size=batch_size, epochs=epochs, verbose=1, validation_data=(x_valid, y_valid), callbacks=[modelcheckpoint])"
      ],
      "execution_count": 9,
      "outputs": [
        {
          "output_type": "stream",
          "name": "stdout",
          "text": [
            "Epoch 1/16\n",
            "196/196 [==============================] - 32s 145ms/step - loss: 0.7060 - accuracy: 0.5008 - val_loss: 0.6956 - val_accuracy: 0.5116\n",
            "Epoch 2/16\n",
            "196/196 [==============================] - 30s 151ms/step - loss: 0.6901 - accuracy: 0.5316 - val_loss: 0.6784 - val_accuracy: 0.5811\n",
            "Epoch 3/16\n",
            "196/196 [==============================] - 29s 147ms/step - loss: 0.6686 - accuracy: 0.5772 - val_loss: 0.6505 - val_accuracy: 0.6022\n",
            "Epoch 4/16\n",
            "196/196 [==============================] - 28s 142ms/step - loss: 0.5806 - accuracy: 0.6909 - val_loss: 0.5614 - val_accuracy: 0.7136\n",
            "Epoch 5/16\n",
            "196/196 [==============================] - 28s 141ms/step - loss: 0.5432 - accuracy: 0.7330 - val_loss: 0.6053 - val_accuracy: 0.6990\n",
            "Epoch 6/16\n",
            "196/196 [==============================] - 28s 142ms/step - loss: 0.4877 - accuracy: 0.7744 - val_loss: 0.6213 - val_accuracy: 0.6602\n",
            "Epoch 7/16\n",
            "196/196 [==============================] - 28s 141ms/step - loss: 0.6153 - accuracy: 0.6772 - val_loss: 0.6432 - val_accuracy: 0.6290\n",
            "Epoch 8/16\n",
            "196/196 [==============================] - 28s 142ms/step - loss: 0.5928 - accuracy: 0.7010 - val_loss: 0.5688 - val_accuracy: 0.7085\n",
            "Epoch 9/16\n",
            "196/196 [==============================] - 29s 150ms/step - loss: 0.5478 - accuracy: 0.7166 - val_loss: 0.6301 - val_accuracy: 0.6164\n",
            "Epoch 10/16\n",
            "196/196 [==============================] - 28s 142ms/step - loss: 0.4784 - accuracy: 0.7787 - val_loss: 0.5283 - val_accuracy: 0.7663\n",
            "Epoch 11/16\n",
            "196/196 [==============================] - 28s 144ms/step - loss: 0.5241 - accuracy: 0.7458 - val_loss: 0.8046 - val_accuracy: 0.6140\n",
            "Epoch 12/16\n",
            "196/196 [==============================] - 28s 144ms/step - loss: 0.4789 - accuracy: 0.7847 - val_loss: 0.6048 - val_accuracy: 0.7252\n",
            "Epoch 13/16\n",
            "196/196 [==============================] - 28s 143ms/step - loss: 0.4990 - accuracy: 0.7623 - val_loss: 0.5962 - val_accuracy: 0.7204\n",
            "Epoch 14/16\n",
            "196/196 [==============================] - 28s 143ms/step - loss: 0.4153 - accuracy: 0.8120 - val_loss: 0.5443 - val_accuracy: 0.7659\n",
            "Epoch 15/16\n",
            "196/196 [==============================] - 28s 144ms/step - loss: 0.4223 - accuracy: 0.8146 - val_loss: 0.5668 - val_accuracy: 0.7026\n",
            "Epoch 16/16\n",
            "196/196 [==============================] - 28s 141ms/step - loss: 0.5206 - accuracy: 0.7359 - val_loss: 0.7328 - val_accuracy: 0.6922\n"
          ]
        },
        {
          "output_type": "execute_result",
          "data": {
            "text/plain": [
              "<keras.callbacks.History at 0x7f4ae3f73040>"
            ]
          },
          "metadata": {},
          "execution_count": 9
        }
      ]
    },
    {
      "cell_type": "markdown",
      "metadata": {
        "collapsed": true,
        "id": "OTWp8UznicGP"
      },
      "source": [
        "#### 평가"
      ]
    },
    {
      "cell_type": "code",
      "metadata": {
        "id": "A1INhEG2icGP"
      },
      "source": [
        "model.load_weights(output_dir+\"/weights.07.hdf5\") "
      ],
      "execution_count": 10,
      "outputs": []
    },
    {
      "cell_type": "code",
      "metadata": {
        "id": "pasKnvgKicGP",
        "outputId": "f62c9cc5-350b-458b-cbd8-c803733ddbb5",
        "colab": {
          "base_uri": "https://localhost:8080/"
        }
      },
      "source": [
        "y_hat = model.predict(x_valid)"
      ],
      "execution_count": 11,
      "outputs": [
        {
          "output_type": "stream",
          "name": "stdout",
          "text": [
            "782/782 [==============================] - 8s 11ms/step\n"
          ]
        }
      ]
    },
    {
      "cell_type": "code",
      "metadata": {
        "id": "6x3Mwhu7icGP",
        "colab": {
          "base_uri": "https://localhost:8080/",
          "height": 268
        },
        "outputId": "6961b086-8841-4663-c34b-8a9b51f9cd25"
      },
      "source": [
        "plt.hist(y_hat)\n",
        "_ = plt.axvline(x=0.5, color='orange')"
      ],
      "execution_count": 12,
      "outputs": [
        {
          "output_type": "display_data",
          "data": {
            "text/plain": [
              "<Figure size 432x288 with 1 Axes>"
            ],
            "image/png": "[encoded data removed]"
          },
          "metadata": {
            "needs_background": "light"
          }
        }
      ]
    },
    {
      "cell_type": "code",
      "metadata": {
        "id": "KwfLHETcicGP",
        "colab": {
          "base_uri": "https://localhost:8080/",
          "height": 36
        },
        "outputId": "48946076-4881-4584-ae78-a02848c33987"
      },
      "source": [
        "\"{:0.2f}\".format(roc_auc_score(y_valid, y_hat)*100.0)"
      ],
      "execution_count": 13,
      "outputs": [
        {
          "output_type": "execute_result",
          "data": {
            "text/plain": [
              "'69.33'"
            ],
            "application/vnd.google.colaboratory.intrinsic+json": {
              "type": "string"
            }
          },
          "metadata": {},
          "execution_count": 13
        }
      ]
    }
  ]
}