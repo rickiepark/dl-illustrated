{
  "nbformat": 4,
  "nbformat_minor": 0,
  "metadata": {
    "kernelspec": {
      "display_name": "TensorFlow 2.3 on Python 3.6 (CUDA 10.1)",
      "language": "python",
      "name": "python3"
    },
    "language_info": {
      "codemirror_mode": {
        "name": "ipython",
        "version": 3
      },
      "file_extension": ".py",
      "mimetype": "text/x-python",
      "name": "python",
      "nbconvert_exporter": "python",
      "pygments_lexer": "ipython3",
      "version": "3.6.9"
    },
    "colab": {
      "name": "10-2.alexnet_in_keras.ipynb",
      "provenance": []
    },
    "accelerator": "GPU"
  },
  "cells": [
    {
      "cell_type": "markdown",
      "metadata": {
        "id": "b8YXil1YQCCP"
      },
      "source": [
        "# 케라스로 AlexNet 만들기"
      ]
    },
    {
      "cell_type": "markdown",
      "metadata": {
        "id": "1oBWkfZBQCCT"
      },
      "source": [
        "이 노트북에서 [AlexNet](https://papers.nips.cc/paper/4824-imagenet-classification-with-deep-convolutional-neural-networks)과 비슷한 심층 합성곱 신경망으로 [Oxford Flowers](http://www.robots.ox.ac.uk/~vgg/data/flowers/17/) 데이터셋의 꽃을 17개의 카테고리로 분류하겠습니다."
      ]
    },
    {
      "cell_type": "markdown",
      "metadata": {
        "id": "dIeVe_hPQCCT"
      },
      "source": [
        "[![Open In Colab](https://colab.research.google.com/assets/colab-badge.svg)](https://colab.research.google.com/github/rickiepark/dl-illustrated/blob/master/notebooks/10-2.alexnet_in_keras.ipynb)"
      ]
    },
    {
      "cell_type": "markdown",
      "metadata": {
        "id": "XyGDF8-kQCCU"
      },
      "source": [
        "#### 라이브러리를 적재합니다."
      ]
    },
    {
      "cell_type": "code",
      "metadata": {
        "id": "zNMKKpyhQCCU"
      },
      "source": [
        "from tensorflow import keras\n",
        "from tensorflow.keras.models import Sequential\n",
        "from tensorflow.keras.layers import Dense, Dropout, Flatten, Conv2D, MaxPooling2D\n",
        "from tensorflow.keras.layers import BatchNormalization"
      ],
      "execution_count": 1,
      "outputs": []
    },
    {
      "cell_type": "markdown",
      "metadata": {
        "id": "GLXZFYT7QCCU"
      },
      "source": [
        "#### 데이터를 적재하고 전처리합니다."
      ]
    },
    {
      "cell_type": "markdown",
      "metadata": {
        "id": "JAGhSpKvQCCU"
      },
      "source": [
        "원서 노트북은 tflearn을 사용해 oxflower17 데이터셋을 다운로드합니다. 이 라이브러리는 텐서플로 2와 호환되지 않습니다. 여기에서는 사전에 tflearn으로 다운받은 데이터를 다운로드하여 사용합니다.\n",
        "\n",
        "이 데이터셋에 대한 자세한 내용은 http://www.robots.ox.ac.uk/~vgg/data/flowers/17/ 을 참고하세요."
      ]
    },
    {
      "cell_type": "code",
      "metadata": {
        "id": "TMi_JHiaQCCV",
        "colab": {
          "base_uri": "https://localhost:8080/"
        },
        "outputId": "4eae35c5-cb7c-4e30-d59e-75c9a0673e3d"
      },
      "source": [
        "!rm oxflower17*\n",
        "!wget https://bit.ly/36QytdH -O oxflower17.npz"
      ],
      "execution_count": 2,
      "outputs": [
        {
          "output_type": "stream",
          "name": "stdout",
          "text": [
            "rm: cannot remove 'oxflower17*': No such file or directory\n",
            "--2022-12-05 14:13:29--  https://bit.ly/36QytdH\n",
            "Resolving bit.ly (bit.ly)... 67.199.248.10, 67.199.248.11\n",
            "Connecting to bit.ly (bit.ly)|67.199.248.10|:443... connected.\n",
            "HTTP request sent, awaiting response... 301 Moved Permanently\n",
            "Location: https://onedrive.live.com/download?cid=822579D69D2DC3B5&resid=822579D69D2DC3B5!597859&authkey=AGd0CpvKFkK8GtE [following]\n",
            "--2022-12-05 14:13:29--  https://onedrive.live.com/download?cid=822579D69D2DC3B5&resid=822579D69D2DC3B5!597859&authkey=AGd0CpvKFkK8GtE\n",
            "Resolving onedrive.live.com (onedrive.live.com)... 13.107.42.13\n",
            "Connecting to onedrive.live.com (onedrive.live.com)|13.107.42.13|:443... connected.\n",
            "HTTP request sent, awaiting response... 302 Found\n",
            "Location: https://57ucia.bl.files.1drv.com/y4mqlZfpk_J6A82ill1DP980f5KSadMhdlICtmLSTQ-JpyHmG3cQ17F8wwcBhfWh4ehRPsHQzynDU32NgrmLwnjJeq_zDZSxjS-Hz-AlcqCszeLu5-A5mgk2dgTCQHRapcs7crVYsHWz1WOR5NIwJgXLGcKq0KfveQBQYThP0Zha-fuSZd5EYvWzzJnx3fBXepBObZl0uzQUGx7MZWc6VTUmQ/oxflower17.npz?download&psid=1 [following]\n",
            "--2022-12-05 14:13:30--  https://57ucia.bl.files.1drv.com/y4mqlZfpk_J6A82ill1DP980f5KSadMhdlICtmLSTQ-JpyHmG3cQ17F8wwcBhfWh4ehRPsHQzynDU32NgrmLwnjJeq_zDZSxjS-Hz-AlcqCszeLu5-A5mgk2dgTCQHRapcs7crVYsHWz1WOR5NIwJgXLGcKq0KfveQBQYThP0Zha-fuSZd5EYvWzzJnx3fBXepBObZl0uzQUGx7MZWc6VTUmQ/oxflower17.npz?download&psid=1\n",
            "Resolving 57ucia.bl.files.1drv.com (57ucia.bl.files.1drv.com)... 13.107.43.12\n",
            "Connecting to 57ucia.bl.files.1drv.com (57ucia.bl.files.1drv.com)|13.107.43.12|:443... connected.\n",
            "HTTP request sent, awaiting response... 200 OK\n",
            "Length: 252415092 (241M) [application/zip]\n",
            "Saving to: ‘oxflower17.npz’\n",
            "\n",
            "oxflower17.npz      100%[===================>] 240.72M  22.7MB/s    in 13s     \n",
            "\n",
            "2022-12-05 14:13:44 (18.8 MB/s) - ‘oxflower17.npz’ saved [252415092/252415092]\n",
            "\n"
          ]
        }
      ]
    },
    {
      "cell_type": "code",
      "metadata": {
        "id": "iJmvncZCQCCV"
      },
      "source": [
        "import numpy as np\n",
        "\n",
        "data = np.load('oxflower17.npz')\n",
        "X = data['X']\n",
        "Y = data['Y']"
      ],
      "execution_count": 3,
      "outputs": []
    },
    {
      "cell_type": "code",
      "metadata": {
        "id": "d_Xy4VLPQCCW",
        "colab": {
          "base_uri": "https://localhost:8080/"
        },
        "outputId": "d95b27b6-4f6f-4a0b-f3b2-17495176bb5d"
      },
      "source": [
        "X.shape, Y.shape"
      ],
      "execution_count": 4,
      "outputs": [
        {
          "output_type": "execute_result",
          "data": {
            "text/plain": [
              "((1360, 224, 224, 3), (1360, 17))"
            ]
          },
          "metadata": {},
          "execution_count": 4
        }
      ]
    },
    {
      "cell_type": "markdown",
      "metadata": {
        "id": "BYAvW3sNQCCW"
      },
      "source": [
        "#### 신경망 모델을 만듭니다."
      ]
    },
    {
      "cell_type": "code",
      "metadata": {
        "id": "8IXx-jQLQCCW"
      },
      "source": [
        "model = Sequential()\n",
        "\n",
        "model.add(Conv2D(96, kernel_size=(11, 11), strides=(4, 4), activation='relu', input_shape=(224, 224, 3)))\n",
        "model.add(MaxPooling2D(pool_size=(3, 3), strides=(2, 2)))\n",
        "model.add(BatchNormalization())\n",
        "\n",
        "model.add(Conv2D(256, kernel_size=(5, 5), activation='relu'))\n",
        "model.add(MaxPooling2D(pool_size=(3, 3), strides=(2, 2)))\n",
        "model.add(BatchNormalization())\n",
        "\n",
        "model.add(Conv2D(256, kernel_size=(3, 3), activation='relu'))\n",
        "model.add(Conv2D(384, kernel_size=(3, 3), activation='relu'))\n",
        "model.add(Conv2D(384, kernel_size=(3, 3), activation='relu'))\n",
        "model.add(MaxPooling2D(pool_size=(3, 3), strides=(2, 2)))\n",
        "model.add(BatchNormalization())\n",
        "\n",
        "model.add(Flatten())\n",
        "model.add(Dense(4096, activation='tanh'))\n",
        "model.add(Dropout(0.5))\n",
        "model.add(Dense(4096, activation='tanh'))\n",
        "model.add(Dropout(0.5))\n",
        "\n",
        "model.add(Dense(17, activation='softmax'))"
      ],
      "execution_count": 5,
      "outputs": []
    },
    {
      "cell_type": "code",
      "metadata": {
        "id": "PDoU5NTkQCCW",
        "colab": {
          "base_uri": "https://localhost:8080/"
        },
        "outputId": "c5eb6d53-2a56-4ca1-f724-a7291337ff5d"
      },
      "source": [
        "model.summary()"
      ],
      "execution_count": 6,
      "outputs": [
        {
          "output_type": "stream",
          "name": "stdout",
          "text": [
            "Model: \"sequential\"\n",
            "_________________________________________________________________\n",
            " Layer (type)                Output Shape              Param #   \n",
            "=================================================================\n",
            " conv2d (Conv2D)             (None, 54, 54, 96)        34944     \n",
            "                                                                 \n",
            " max_pooling2d (MaxPooling2D  (None, 26, 26, 96)       0         \n",
            " )                                                               \n",
            "                                                                 \n",
            " batch_normalization (BatchN  (None, 26, 26, 96)       384       \n",
            " ormalization)                                                   \n",
            "                                                                 \n",
            " conv2d_1 (Conv2D)           (None, 22, 22, 256)       614656    \n",
            "                                                                 \n",
            " max_pooling2d_1 (MaxPooling  (None, 10, 10, 256)      0         \n",
            " 2D)                                                             \n",
            "                                                                 \n",
            " batch_normalization_1 (Batc  (None, 10, 10, 256)      1024      \n",
            " hNormalization)                                                 \n",
            "                                                                 \n",
            " conv2d_2 (Conv2D)           (None, 8, 8, 256)         590080    \n",
            "                                                                 \n",
            " conv2d_3 (Conv2D)           (None, 6, 6, 384)         885120    \n",
            "                                                                 \n",
            " conv2d_4 (Conv2D)           (None, 4, 4, 384)         1327488   \n",
            "                                                                 \n",
            " max_pooling2d_2 (MaxPooling  (None, 1, 1, 384)        0         \n",
            " 2D)                                                             \n",
            "                                                                 \n",
            " batch_normalization_2 (Batc  (None, 1, 1, 384)        1536      \n",
            " hNormalization)                                                 \n",
            "                                                                 \n",
            " flatten (Flatten)           (None, 384)               0         \n",
            "                                                                 \n",
            " dense (Dense)               (None, 4096)              1576960   \n",
            "                                                                 \n",
            " dropout (Dropout)           (None, 4096)              0         \n",
            "                                                                 \n",
            " dense_1 (Dense)             (None, 4096)              16781312  \n",
            "                                                                 \n",
            " dropout_1 (Dropout)         (None, 4096)              0         \n",
            "                                                                 \n",
            " dense_2 (Dense)             (None, 17)                69649     \n",
            "                                                                 \n",
            "=================================================================\n",
            "Total params: 21,883,153\n",
            "Trainable params: 21,881,681\n",
            "Non-trainable params: 1,472\n",
            "_________________________________________________________________\n"
          ]
        }
      ]
    },
    {
      "cell_type": "markdown",
      "metadata": {
        "id": "EYiTN_TPQCCX"
      },
      "source": [
        "#### 모델을 설정합니다."
      ]
    },
    {
      "cell_type": "code",
      "metadata": {
        "id": "CgrBXoewQCCX"
      },
      "source": [
        "model.compile(loss='categorical_crossentropy', optimizer='adam', metrics=['accuracy'])"
      ],
      "execution_count": 7,
      "outputs": []
    },
    {
      "cell_type": "markdown",
      "metadata": {
        "id": "tBHoQvoHQCCX"
      },
      "source": [
        "#### 훈련!"
      ]
    },
    {
      "cell_type": "code",
      "metadata": {
        "id": "Ak5Yfoi1QCCX",
        "colab": {
          "base_uri": "https://localhost:8080/"
        },
        "outputId": "76d25c2d-c08d-4824-89bd-53860e23e4cb"
      },
      "source": [
        "model.fit(X, Y, batch_size=64, epochs=100, verbose=1, validation_split=0.1, shuffle=True)"
      ],
      "execution_count": 8,
      "outputs": [
        {
          "output_type": "stream",
          "name": "stdout",
          "text": [
            "Epoch 1/100\n",
            "20/20 [==============================] - 11s 133ms/step - loss: 4.7061 - accuracy: 0.1822 - val_loss: 9.8349 - val_accuracy: 0.0662\n",
            "Epoch 2/100\n",
            "20/20 [==============================] - 1s 64ms/step - loss: 3.3069 - accuracy: 0.2230 - val_loss: 5.5137 - val_accuracy: 0.0809\n",
            "Epoch 3/100\n",
            "20/20 [==============================] - 1s 65ms/step - loss: 2.9159 - accuracy: 0.2712 - val_loss: 5.8542 - val_accuracy: 0.0809\n",
            "Epoch 4/100\n",
            "20/20 [==============================] - 1s 61ms/step - loss: 2.5070 - accuracy: 0.3317 - val_loss: 5.5388 - val_accuracy: 0.1250\n",
            "Epoch 5/100\n",
            "20/20 [==============================] - 1s 60ms/step - loss: 2.6545 - accuracy: 0.3538 - val_loss: 3.6639 - val_accuracy: 0.2647\n",
            "Epoch 6/100\n",
            "20/20 [==============================] - 1s 60ms/step - loss: 2.2386 - accuracy: 0.3750 - val_loss: 2.7797 - val_accuracy: 0.2426\n",
            "Epoch 7/100\n",
            "20/20 [==============================] - 1s 60ms/step - loss: 2.3928 - accuracy: 0.3636 - val_loss: 3.3288 - val_accuracy: 0.2279\n",
            "Epoch 8/100\n",
            "20/20 [==============================] - 1s 61ms/step - loss: 2.4454 - accuracy: 0.3538 - val_loss: 2.9553 - val_accuracy: 0.1912\n",
            "Epoch 9/100\n",
            "20/20 [==============================] - 1s 61ms/step - loss: 2.2935 - accuracy: 0.4109 - val_loss: 3.3632 - val_accuracy: 0.2794\n",
            "Epoch 10/100\n",
            "20/20 [==============================] - 1s 61ms/step - loss: 1.9772 - accuracy: 0.4363 - val_loss: 3.0398 - val_accuracy: 0.2500\n",
            "Epoch 11/100\n",
            "20/20 [==============================] - 1s 60ms/step - loss: 2.2622 - accuracy: 0.3881 - val_loss: 6.8133 - val_accuracy: 0.2206\n",
            "Epoch 12/100\n",
            "20/20 [==============================] - 1s 62ms/step - loss: 2.2286 - accuracy: 0.4183 - val_loss: 8.1077 - val_accuracy: 0.1691\n",
            "Epoch 13/100\n",
            "20/20 [==============================] - 1s 60ms/step - loss: 2.0222 - accuracy: 0.4428 - val_loss: 5.3875 - val_accuracy: 0.2426\n",
            "Epoch 14/100\n",
            "20/20 [==============================] - 1s 61ms/step - loss: 2.0465 - accuracy: 0.4485 - val_loss: 3.7935 - val_accuracy: 0.3015\n",
            "Epoch 15/100\n",
            "20/20 [==============================] - 1s 61ms/step - loss: 1.9172 - accuracy: 0.4828 - val_loss: 3.3896 - val_accuracy: 0.4044\n",
            "Epoch 16/100\n",
            "20/20 [==============================] - 1s 61ms/step - loss: 1.8375 - accuracy: 0.5139 - val_loss: 2.8437 - val_accuracy: 0.3676\n",
            "Epoch 17/100\n",
            "20/20 [==============================] - 1s 61ms/step - loss: 1.8229 - accuracy: 0.5082 - val_loss: 3.2189 - val_accuracy: 0.3309\n",
            "Epoch 18/100\n",
            "20/20 [==============================] - 1s 61ms/step - loss: 1.8358 - accuracy: 0.5000 - val_loss: 2.8677 - val_accuracy: 0.3971\n",
            "Epoch 19/100\n",
            "20/20 [==============================] - 1s 62ms/step - loss: 1.6208 - accuracy: 0.5547 - val_loss: 3.7828 - val_accuracy: 0.2941\n",
            "Epoch 20/100\n",
            "20/20 [==============================] - 1s 62ms/step - loss: 1.7103 - accuracy: 0.5408 - val_loss: 2.5744 - val_accuracy: 0.4412\n",
            "Epoch 21/100\n",
            "20/20 [==============================] - 1s 62ms/step - loss: 1.4877 - accuracy: 0.5792 - val_loss: 2.4072 - val_accuracy: 0.4926\n",
            "Epoch 22/100\n",
            "20/20 [==============================] - 1s 61ms/step - loss: 1.6499 - accuracy: 0.5809 - val_loss: 2.2759 - val_accuracy: 0.4706\n",
            "Epoch 23/100\n",
            "20/20 [==============================] - 1s 60ms/step - loss: 1.7494 - accuracy: 0.5711 - val_loss: 2.7332 - val_accuracy: 0.4412\n",
            "Epoch 24/100\n",
            "20/20 [==============================] - 1s 61ms/step - loss: 1.3462 - accuracy: 0.6307 - val_loss: 2.9420 - val_accuracy: 0.4191\n",
            "Epoch 25/100\n",
            "20/20 [==============================] - 1s 61ms/step - loss: 2.0504 - accuracy: 0.4469 - val_loss: 4.7165 - val_accuracy: 0.3088\n",
            "Epoch 26/100\n",
            "20/20 [==============================] - 1s 61ms/step - loss: 2.1938 - accuracy: 0.4297 - val_loss: 3.8420 - val_accuracy: 0.3235\n",
            "Epoch 27/100\n",
            "20/20 [==============================] - 1s 61ms/step - loss: 1.8449 - accuracy: 0.5131 - val_loss: 3.7512 - val_accuracy: 0.4044\n",
            "Epoch 28/100\n",
            "20/20 [==============================] - 1s 61ms/step - loss: 1.5956 - accuracy: 0.5523 - val_loss: 4.6292 - val_accuracy: 0.3824\n",
            "Epoch 29/100\n",
            "20/20 [==============================] - 1s 62ms/step - loss: 1.5516 - accuracy: 0.5596 - val_loss: 3.5424 - val_accuracy: 0.3824\n",
            "Epoch 30/100\n",
            "20/20 [==============================] - 1s 62ms/step - loss: 1.4339 - accuracy: 0.5997 - val_loss: 2.3241 - val_accuracy: 0.5294\n",
            "Epoch 31/100\n",
            "20/20 [==============================] - 1s 61ms/step - loss: 1.5070 - accuracy: 0.6054 - val_loss: 2.4052 - val_accuracy: 0.4559\n",
            "Epoch 32/100\n",
            "20/20 [==============================] - 1s 61ms/step - loss: 1.3565 - accuracy: 0.6054 - val_loss: 2.8944 - val_accuracy: 0.4265\n",
            "Epoch 33/100\n",
            "20/20 [==============================] - 1s 61ms/step - loss: 1.3884 - accuracy: 0.6160 - val_loss: 2.5833 - val_accuracy: 0.4338\n",
            "Epoch 34/100\n",
            "20/20 [==============================] - 1s 60ms/step - loss: 1.1783 - accuracy: 0.6683 - val_loss: 2.8858 - val_accuracy: 0.4412\n",
            "Epoch 35/100\n",
            "20/20 [==============================] - 1s 61ms/step - loss: 1.0897 - accuracy: 0.6814 - val_loss: 2.4425 - val_accuracy: 0.5147\n",
            "Epoch 36/100\n",
            "20/20 [==============================] - 1s 61ms/step - loss: 1.0889 - accuracy: 0.6757 - val_loss: 2.7913 - val_accuracy: 0.4412\n",
            "Epoch 37/100\n",
            "20/20 [==============================] - 1s 62ms/step - loss: 1.2867 - accuracy: 0.6544 - val_loss: 2.9385 - val_accuracy: 0.4412\n",
            "Epoch 38/100\n",
            "20/20 [==============================] - 1s 62ms/step - loss: 1.0561 - accuracy: 0.6773 - val_loss: 2.9445 - val_accuracy: 0.4853\n",
            "Epoch 39/100\n",
            "20/20 [==============================] - 1s 62ms/step - loss: 1.2194 - accuracy: 0.6789 - val_loss: 2.6555 - val_accuracy: 0.5368\n",
            "Epoch 40/100\n",
            "20/20 [==============================] - 1s 62ms/step - loss: 0.9432 - accuracy: 0.7181 - val_loss: 2.7865 - val_accuracy: 0.5074\n",
            "Epoch 41/100\n",
            "20/20 [==============================] - 1s 61ms/step - loss: 1.0274 - accuracy: 0.7059 - val_loss: 2.4867 - val_accuracy: 0.4706\n",
            "Epoch 42/100\n",
            "20/20 [==============================] - 1s 62ms/step - loss: 0.9262 - accuracy: 0.7288 - val_loss: 2.2046 - val_accuracy: 0.5441\n",
            "Epoch 43/100\n",
            "20/20 [==============================] - 1s 61ms/step - loss: 0.7819 - accuracy: 0.7614 - val_loss: 2.6677 - val_accuracy: 0.5221\n",
            "Epoch 44/100\n",
            "20/20 [==============================] - 1s 61ms/step - loss: 0.7734 - accuracy: 0.7794 - val_loss: 2.4916 - val_accuracy: 0.4853\n",
            "Epoch 45/100\n",
            "20/20 [==============================] - 1s 61ms/step - loss: 0.7701 - accuracy: 0.7851 - val_loss: 2.2157 - val_accuracy: 0.5588\n",
            "Epoch 46/100\n",
            "20/20 [==============================] - 1s 62ms/step - loss: 0.9484 - accuracy: 0.7386 - val_loss: 3.6445 - val_accuracy: 0.4338\n",
            "Epoch 47/100\n",
            "20/20 [==============================] - 1s 62ms/step - loss: 0.9282 - accuracy: 0.7377 - val_loss: 4.0313 - val_accuracy: 0.4559\n",
            "Epoch 48/100\n",
            "20/20 [==============================] - 1s 61ms/step - loss: 0.9982 - accuracy: 0.7377 - val_loss: 3.3823 - val_accuracy: 0.4779\n",
            "Epoch 49/100\n",
            "20/20 [==============================] - 1s 62ms/step - loss: 0.7341 - accuracy: 0.7786 - val_loss: 3.0054 - val_accuracy: 0.5000\n",
            "Epoch 50/100\n",
            "20/20 [==============================] - 1s 61ms/step - loss: 0.7619 - accuracy: 0.7843 - val_loss: 3.7168 - val_accuracy: 0.4853\n",
            "Epoch 51/100\n",
            "20/20 [==============================] - 1s 62ms/step - loss: 0.8797 - accuracy: 0.7516 - val_loss: 3.8525 - val_accuracy: 0.3824\n",
            "Epoch 52/100\n",
            "20/20 [==============================] - 1s 62ms/step - loss: 0.8542 - accuracy: 0.7712 - val_loss: 3.3595 - val_accuracy: 0.5000\n",
            "Epoch 53/100\n",
            "20/20 [==============================] - 1s 62ms/step - loss: 0.7057 - accuracy: 0.7958 - val_loss: 3.1224 - val_accuracy: 0.5441\n",
            "Epoch 54/100\n",
            "20/20 [==============================] - 1s 62ms/step - loss: 0.5634 - accuracy: 0.8382 - val_loss: 3.1193 - val_accuracy: 0.5368\n",
            "Epoch 55/100\n",
            "20/20 [==============================] - 1s 61ms/step - loss: 0.5341 - accuracy: 0.8268 - val_loss: 3.1965 - val_accuracy: 0.5441\n",
            "Epoch 56/100\n",
            "20/20 [==============================] - 1s 61ms/step - loss: 0.3925 - accuracy: 0.8750 - val_loss: 2.6643 - val_accuracy: 0.6029\n",
            "Epoch 57/100\n",
            "20/20 [==============================] - 1s 62ms/step - loss: 0.5409 - accuracy: 0.8513 - val_loss: 2.7574 - val_accuracy: 0.5221\n",
            "Epoch 58/100\n",
            "20/20 [==============================] - 1s 61ms/step - loss: 0.5954 - accuracy: 0.8382 - val_loss: 3.4237 - val_accuracy: 0.4926\n",
            "Epoch 59/100\n",
            "20/20 [==============================] - 1s 62ms/step - loss: 0.8309 - accuracy: 0.7753 - val_loss: 2.9370 - val_accuracy: 0.5441\n",
            "Epoch 60/100\n",
            "20/20 [==============================] - 1s 61ms/step - loss: 0.7466 - accuracy: 0.7908 - val_loss: 2.9453 - val_accuracy: 0.5662\n",
            "Epoch 61/100\n",
            "20/20 [==============================] - 1s 62ms/step - loss: 0.6686 - accuracy: 0.8080 - val_loss: 3.7159 - val_accuracy: 0.5074\n",
            "Epoch 62/100\n",
            "20/20 [==============================] - 1s 61ms/step - loss: 0.7365 - accuracy: 0.8031 - val_loss: 3.4750 - val_accuracy: 0.4853\n",
            "Epoch 63/100\n",
            "20/20 [==============================] - 1s 62ms/step - loss: 0.6526 - accuracy: 0.8154 - val_loss: 2.9450 - val_accuracy: 0.5588\n",
            "Epoch 64/100\n",
            "20/20 [==============================] - 1s 62ms/step - loss: 0.7630 - accuracy: 0.8056 - val_loss: 3.5314 - val_accuracy: 0.5368\n",
            "Epoch 65/100\n",
            "20/20 [==============================] - 1s 62ms/step - loss: 0.5381 - accuracy: 0.8489 - val_loss: 3.0335 - val_accuracy: 0.5882\n",
            "Epoch 66/100\n",
            "20/20 [==============================] - 1s 62ms/step - loss: 0.4627 - accuracy: 0.8611 - val_loss: 3.0609 - val_accuracy: 0.6103\n",
            "Epoch 67/100\n",
            "20/20 [==============================] - 1s 62ms/step - loss: 0.2845 - accuracy: 0.9069 - val_loss: 3.1724 - val_accuracy: 0.5809\n",
            "Epoch 68/100\n",
            "20/20 [==============================] - 1s 62ms/step - loss: 0.3315 - accuracy: 0.8889 - val_loss: 4.0912 - val_accuracy: 0.4706\n",
            "Epoch 69/100\n",
            "20/20 [==============================] - 1s 61ms/step - loss: 0.2966 - accuracy: 0.9175 - val_loss: 2.7451 - val_accuracy: 0.6103\n",
            "Epoch 70/100\n",
            "20/20 [==============================] - 1s 62ms/step - loss: 0.1865 - accuracy: 0.9363 - val_loss: 3.3485 - val_accuracy: 0.5588\n",
            "Epoch 71/100\n",
            "20/20 [==============================] - 1s 62ms/step - loss: 0.3002 - accuracy: 0.9183 - val_loss: 3.5970 - val_accuracy: 0.5735\n",
            "Epoch 72/100\n",
            "20/20 [==============================] - 1s 62ms/step - loss: 0.5490 - accuracy: 0.8652 - val_loss: 3.6436 - val_accuracy: 0.6103\n",
            "Epoch 73/100\n",
            "20/20 [==============================] - 1s 63ms/step - loss: 0.4159 - accuracy: 0.8832 - val_loss: 3.3699 - val_accuracy: 0.5882\n",
            "Epoch 74/100\n",
            "20/20 [==============================] - 1s 61ms/step - loss: 0.2973 - accuracy: 0.9085 - val_loss: 3.6179 - val_accuracy: 0.5294\n",
            "Epoch 75/100\n",
            "20/20 [==============================] - 1s 62ms/step - loss: 0.3465 - accuracy: 0.9044 - val_loss: 3.7197 - val_accuracy: 0.5809\n",
            "Epoch 76/100\n",
            "20/20 [==============================] - 1s 63ms/step - loss: 0.4308 - accuracy: 0.8734 - val_loss: 2.9291 - val_accuracy: 0.6250\n",
            "Epoch 77/100\n",
            "20/20 [==============================] - 1s 61ms/step - loss: 0.2304 - accuracy: 0.9314 - val_loss: 3.6965 - val_accuracy: 0.5956\n",
            "Epoch 78/100\n",
            "20/20 [==============================] - 1s 63ms/step - loss: 0.4027 - accuracy: 0.8815 - val_loss: 5.8059 - val_accuracy: 0.3824\n",
            "Epoch 79/100\n",
            "20/20 [==============================] - 1s 62ms/step - loss: 0.3974 - accuracy: 0.8815 - val_loss: 4.6071 - val_accuracy: 0.5221\n",
            "Epoch 80/100\n",
            "20/20 [==============================] - 1s 63ms/step - loss: 0.4920 - accuracy: 0.8832 - val_loss: 5.9962 - val_accuracy: 0.3897\n",
            "Epoch 81/100\n",
            "20/20 [==============================] - 1s 62ms/step - loss: 0.4353 - accuracy: 0.8897 - val_loss: 6.3373 - val_accuracy: 0.3750\n",
            "Epoch 82/100\n",
            "20/20 [==============================] - 1s 62ms/step - loss: 0.6403 - accuracy: 0.8554 - val_loss: 3.9668 - val_accuracy: 0.5515\n",
            "Epoch 83/100\n",
            "20/20 [==============================] - 1s 62ms/step - loss: 0.5687 - accuracy: 0.8603 - val_loss: 3.9578 - val_accuracy: 0.4338\n",
            "Epoch 84/100\n",
            "20/20 [==============================] - 1s 62ms/step - loss: 0.5816 - accuracy: 0.8521 - val_loss: 3.1569 - val_accuracy: 0.5882\n",
            "Epoch 85/100\n",
            "20/20 [==============================] - 1s 62ms/step - loss: 0.2740 - accuracy: 0.9118 - val_loss: 2.6449 - val_accuracy: 0.6544\n",
            "Epoch 86/100\n",
            "20/20 [==============================] - 1s 62ms/step - loss: 0.1841 - accuracy: 0.9436 - val_loss: 2.6941 - val_accuracy: 0.6544\n",
            "Epoch 87/100\n",
            "20/20 [==============================] - 1s 63ms/step - loss: 0.1638 - accuracy: 0.9469 - val_loss: 2.7750 - val_accuracy: 0.6618\n",
            "Epoch 88/100\n",
            "20/20 [==============================] - 1s 62ms/step - loss: 0.2710 - accuracy: 0.9240 - val_loss: 4.3175 - val_accuracy: 0.5515\n",
            "Epoch 89/100\n",
            "20/20 [==============================] - 1s 61ms/step - loss: 0.3962 - accuracy: 0.9011 - val_loss: 3.1703 - val_accuracy: 0.5662\n",
            "Epoch 90/100\n",
            "20/20 [==============================] - 1s 63ms/step - loss: 0.3809 - accuracy: 0.9036 - val_loss: 3.3357 - val_accuracy: 0.5735\n",
            "Epoch 91/100\n",
            "20/20 [==============================] - 1s 63ms/step - loss: 0.2151 - accuracy: 0.9355 - val_loss: 3.0587 - val_accuracy: 0.6029\n",
            "Epoch 92/100\n",
            "20/20 [==============================] - 1s 63ms/step - loss: 0.2525 - accuracy: 0.9306 - val_loss: 3.7527 - val_accuracy: 0.5588\n",
            "Epoch 93/100\n",
            "20/20 [==============================] - 1s 63ms/step - loss: 0.5367 - accuracy: 0.8742 - val_loss: 3.3659 - val_accuracy: 0.5882\n",
            "Epoch 94/100\n",
            "20/20 [==============================] - 1s 63ms/step - loss: 0.2816 - accuracy: 0.9248 - val_loss: 2.6892 - val_accuracy: 0.6838\n",
            "Epoch 95/100\n",
            "20/20 [==============================] - 1s 63ms/step - loss: 0.3881 - accuracy: 0.9003 - val_loss: 4.1208 - val_accuracy: 0.6103\n",
            "Epoch 96/100\n",
            "20/20 [==============================] - 1s 62ms/step - loss: 0.3758 - accuracy: 0.9003 - val_loss: 3.0050 - val_accuracy: 0.6471\n",
            "Epoch 97/100\n",
            "20/20 [==============================] - 1s 62ms/step - loss: 0.2197 - accuracy: 0.9371 - val_loss: 2.8634 - val_accuracy: 0.6691\n",
            "Epoch 98/100\n",
            "20/20 [==============================] - 1s 62ms/step - loss: 0.2949 - accuracy: 0.9240 - val_loss: 4.0807 - val_accuracy: 0.5882\n",
            "Epoch 99/100\n",
            "20/20 [==============================] - 1s 62ms/step - loss: 0.2316 - accuracy: 0.9412 - val_loss: 3.9827 - val_accuracy: 0.6176\n",
            "Epoch 100/100\n",
            "20/20 [==============================] - 1s 62ms/step - loss: 0.1476 - accuracy: 0.9567 - val_loss: 3.8219 - val_accuracy: 0.5809\n"
          ]
        },
        {
          "output_type": "execute_result",
          "data": {
            "text/plain": [
              "<keras.callbacks.History at 0x7fc824229430>"
            ]
          },
          "metadata": {},
          "execution_count": 8
        }
      ]
    }
  ]
}