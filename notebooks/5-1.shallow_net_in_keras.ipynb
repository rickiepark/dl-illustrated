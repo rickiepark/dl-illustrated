{
  "nbformat": 4,
  "nbformat_minor": 0,
  "metadata": {
    "kernelspec": {
      "display_name": "TensorFlow 2.3 on Python 3.6 (CUDA 10.1)",
      "language": "python",
      "name": "python3"
    },
    "language_info": {
      "codemirror_mode": {
        "name": "ipython",
        "version": 3
      },
      "file_extension": ".py",
      "mimetype": "text/x-python",
      "name": "python",
      "nbconvert_exporter": "python",
      "pygments_lexer": "ipython3",
      "version": "3.6.9"
    },
    "colab": {
      "name": "5-1.shallow_net_in_keras.ipynb",
      "provenance": []
    },
    "accelerator": "GPU",
    "gpuClass": "standard"
  },
  "cells": [
    {
      "cell_type": "markdown",
      "metadata": {
        "id": "UUUmjUcqwto1"
      },
      "source": [
        "# 케라스로 만드는 얕은 신경망"
      ]
    },
    {
      "cell_type": "markdown",
      "metadata": {
        "id": "-TP9aEcKwto6"
      },
      "source": [
        "얕은 신경망을 만들어 MNIST 숫자를 분류합니다."
      ]
    },
    {
      "cell_type": "markdown",
      "metadata": {
        "id": "EAoh-YwMwto7"
      },
      "source": [
        "[![Open In Colab](https://colab.research.google.com/assets/colab-badge.svg)](https://colab.research.google.com/github/rickiepark/dl-illustrated/blob/master/notebooks/5-1.shallow_net_in_keras.ipynb)"
      ]
    },
    {
      "cell_type": "markdown",
      "metadata": {
        "id": "XiDhzo_zwto7"
      },
      "source": [
        "#### 라이브러리 적재"
      ]
    },
    {
      "cell_type": "code",
      "metadata": {
        "id": "WcrcHtb9wto7"
      },
      "source": [
        "from tensorflow import keras\n",
        "from tensorflow.keras.datasets import mnist\n",
        "from tensorflow.keras.models import Sequential\n",
        "from tensorflow.keras.layers import Dense\n",
        "from tensorflow.keras.optimizers import SGD\n",
        "from matplotlib import pyplot as plt"
      ],
      "execution_count": 1,
      "outputs": []
    },
    {
      "cell_type": "markdown",
      "metadata": {
        "id": "f_LzQka_wto8"
      },
      "source": [
        "#### 데이터 적재"
      ]
    },
    {
      "cell_type": "code",
      "metadata": {
        "scrolled": true,
        "id": "mHmkq2HUwto8",
        "colab": {
          "base_uri": "https://localhost:8080/"
        },
        "outputId": "cf9cbe38-b2a7-4d19-a6ce-640746a984bd"
      },
      "source": [
        "(X_train, y_train), (X_valid, y_valid) = mnist.load_data()"
      ],
      "execution_count": 2,
      "outputs": [
        {
          "output_type": "stream",
          "name": "stdout",
          "text": [
            "Downloading data from https://storage.googleapis.com/tensorflow/tf-keras-datasets/mnist.npz\n",
            "11490434/11490434 [==============================] - 0s 0us/step\n"
          ]
        }
      ]
    },
    {
      "cell_type": "code",
      "metadata": {
        "id": "j1hETGafwto8",
        "colab": {
          "base_uri": "https://localhost:8080/"
        },
        "outputId": "8e688bb0-6105-486d-bc39-00a480e5aaea"
      },
      "source": [
        "X_train.shape"
      ],
      "execution_count": 3,
      "outputs": [
        {
          "output_type": "execute_result",
          "data": {
            "text/plain": [
              "(60000, 28, 28)"
            ]
          },
          "metadata": {},
          "execution_count": 3
        }
      ]
    },
    {
      "cell_type": "code",
      "metadata": {
        "id": "Udr4W4Ygwto9",
        "colab": {
          "base_uri": "https://localhost:8080/"
        },
        "outputId": "3a0f8b62-1065-4dee-a57a-cb12801a3506"
      },
      "source": [
        "y_train.shape"
      ],
      "execution_count": 4,
      "outputs": [
        {
          "output_type": "execute_result",
          "data": {
            "text/plain": [
              "(60000,)"
            ]
          },
          "metadata": {},
          "execution_count": 4
        }
      ]
    },
    {
      "cell_type": "code",
      "metadata": {
        "id": "KqH8ivM0wto9",
        "colab": {
          "base_uri": "https://localhost:8080/"
        },
        "outputId": "6ee069f7-9733-47ac-8ae1-0295a86acfad"
      },
      "source": [
        "y_train[0:12]"
      ],
      "execution_count": 5,
      "outputs": [
        {
          "output_type": "execute_result",
          "data": {
            "text/plain": [
              "array([5, 0, 4, 1, 9, 2, 1, 3, 1, 4, 3, 5], dtype=uint8)"
            ]
          },
          "metadata": {},
          "execution_count": 5
        }
      ]
    },
    {
      "cell_type": "code",
      "metadata": {
        "id": "6JQoSEVRwto-",
        "colab": {
          "base_uri": "https://localhost:8080/",
          "height": 327
        },
        "outputId": "52778923-e650-4cdf-edaa-7e318b4bb383"
      },
      "source": [
        "plt.figure(figsize=(5,5))\n",
        "for k in range(12):\n",
        "    plt.subplot(3, 4, k+1)\n",
        "    plt.imshow(X_train[k], cmap='Greys')\n",
        "    plt.axis('off')\n",
        "plt.tight_layout()\n",
        "plt.show()"
      ],
      "execution_count": 6,
      "outputs": [
        {
          "output_type": "display_data",
          "data": {
            "text/plain": [
              "<Figure size 360x360 with 12 Axes>"
            ],
            "image/png": "[encoded data removed]"
          },
          "metadata": {
            "needs_background": "light"
          }
        }
      ]
    },
    {
      "cell_type": "code",
      "metadata": {
        "id": "z943J9BRwto-",
        "colab": {
          "base_uri": "https://localhost:8080/"
        },
        "outputId": "e4c61d7f-6ecc-4e6b-cffe-34f38111a972"
      },
      "source": [
        "X_valid.shape"
      ],
      "execution_count": 7,
      "outputs": [
        {
          "output_type": "execute_result",
          "data": {
            "text/plain": [
              "(10000, 28, 28)"
            ]
          },
          "metadata": {},
          "execution_count": 7
        }
      ]
    },
    {
      "cell_type": "code",
      "metadata": {
        "id": "3RerA3_-wto-",
        "colab": {
          "base_uri": "https://localhost:8080/"
        },
        "outputId": "84db2e27-9e68-4957-aea4-57c069e3a5ee"
      },
      "source": [
        "y_valid.shape"
      ],
      "execution_count": 8,
      "outputs": [
        {
          "output_type": "execute_result",
          "data": {
            "text/plain": [
              "(10000,)"
            ]
          },
          "metadata": {},
          "execution_count": 8
        }
      ]
    },
    {
      "cell_type": "code",
      "metadata": {
        "id": "HtnSjDMLwto_",
        "colab": {
          "base_uri": "https://localhost:8080/",
          "height": 265
        },
        "outputId": "43eaea01-042a-4c46-b7bf-97d7b5da9c72"
      },
      "source": [
        "plt.imshow(X_valid[0], cmap='Greys')\n",
        "plt.show()"
      ],
      "execution_count": 9,
      "outputs": [
        {
          "output_type": "display_data",
          "data": {
            "text/plain": [
              "<Figure size 432x288 with 1 Axes>"
            ],
            "image/png": "[encoded data removed]"
          },
          "metadata": {
            "needs_background": "light"
          }
        }
      ]
    },
    {
      "cell_type": "code",
      "metadata": {
        "id": "NguqmYmXwto_",
        "colab": {
          "base_uri": "https://localhost:8080/"
        },
        "outputId": "23be47f6-db1c-4949-8aa5-b65c210999ca"
      },
      "source": [
        "X_valid[0]"
      ],
      "execution_count": 10,
      "outputs": [
        {
          "output_type": "execute_result",
          "data": {
            "text/plain": [
              "array([[  0,   0,   0,   0,   0,   0,   0,   0,   0,   0,   0,   0,   0,\n",
              "          0,   0,   0,   0,   0,   0,   0,   0,   0,   0,   0,   0,   0,\n",
              "          0,   0],\n",
              "       [  0,   0,   0,   0,   0,   0,   0,   0,   0,   0,   0,   0,   0,\n",
              "          0,   0,   0,   0,   0,   0,   0,   0,   0,   0,   0,   0,   0,\n",
              "          0,   0],\n",
              "       [  0,   0,   0,   0,   0,   0,   0,   0,   0,   0,   0,   0,   0,\n",
              "          0,   0,   0,   0,   0,   0,   0,   0,   0,   0,   0,   0,   0,\n",
              "          0,   0],\n",
              "       [  0,   0,   0,   0,   0,   0,   0,   0,   0,   0,   0,   0,   0,\n",
              "          0,   0,   0,   0,   0,   0,   0,   0,   0,   0,   0,   0,   0,\n",
              "          0,   0],\n",
              "       [  0,   0,   0,   0,   0,   0,   0,   0,   0,   0,   0,   0,   0,\n",
              "          0,   0,   0,   0,   0,   0,   0,   0,   0,   0,   0,   0,   0,\n",
              "          0,   0],\n",
              "       [  0,   0,   0,   0,   0,   0,   0,   0,   0,   0,   0,   0,   0,\n",
              "          0,   0,   0,   0,   0,   0,   0,   0,   0,   0,   0,   0,   0,\n",
              "          0,   0],\n",
              "       [  0,   0,   0,   0,   0,   0,   0,   0,   0,   0,   0,   0,   0,\n",
              "          0,   0,   0,   0,   0,   0,   0,   0,   0,   0,   0,   0,   0,\n",
              "          0,   0],\n",
              "       [  0,   0,   0,   0,   0,   0,  84, 185, 159, 151,  60,  36,   0,\n",
              "          0,   0,   0,   0,   0,   0,   0,   0,   0,   0,   0,   0,   0,\n",
              "          0,   0],\n",
              "       [  0,   0,   0,   0,   0,   0, 222, 254, 254, 254, 254, 241, 198,\n",
              "        198, 198, 198, 198, 198, 198, 198, 170,  52,   0,   0,   0,   0,\n",
              "          0,   0],\n",
              "       [  0,   0,   0,   0,   0,   0,  67, 114,  72, 114, 163, 227, 254,\n",
              "        225, 254, 254, 254, 250, 229, 254, 254, 140,   0,   0,   0,   0,\n",
              "          0,   0],\n",
              "       [  0,   0,   0,   0,   0,   0,   0,   0,   0,   0,   0,  17,  66,\n",
              "         14,  67,  67,  67,  59,  21, 236, 254, 106,   0,   0,   0,   0,\n",
              "          0,   0],\n",
              "       [  0,   0,   0,   0,   0,   0,   0,   0,   0,   0,   0,   0,   0,\n",
              "          0,   0,   0,   0,   0,  83, 253, 209,  18,   0,   0,   0,   0,\n",
              "          0,   0],\n",
              "       [  0,   0,   0,   0,   0,   0,   0,   0,   0,   0,   0,   0,   0,\n",
              "          0,   0,   0,   0,  22, 233, 255,  83,   0,   0,   0,   0,   0,\n",
              "          0,   0],\n",
              "       [  0,   0,   0,   0,   0,   0,   0,   0,   0,   0,   0,   0,   0,\n",
              "          0,   0,   0,   0, 129, 254, 238,  44,   0,   0,   0,   0,   0,\n",
              "          0,   0],\n",
              "       [  0,   0,   0,   0,   0,   0,   0,   0,   0,   0,   0,   0,   0,\n",
              "          0,   0,   0,  59, 249, 254,  62,   0,   0,   0,   0,   0,   0,\n",
              "          0,   0],\n",
              "       [  0,   0,   0,   0,   0,   0,   0,   0,   0,   0,   0,   0,   0,\n",
              "          0,   0,   0, 133, 254, 187,   5,   0,   0,   0,   0,   0,   0,\n",
              "          0,   0],\n",
              "       [  0,   0,   0,   0,   0,   0,   0,   0,   0,   0,   0,   0,   0,\n",
              "          0,   0,   9, 205, 248,  58,   0,   0,   0,   0,   0,   0,   0,\n",
              "          0,   0],\n",
              "       [  0,   0,   0,   0,   0,   0,   0,   0,   0,   0,   0,   0,   0,\n",
              "          0,   0, 126, 254, 182,   0,   0,   0,   0,   0,   0,   0,   0,\n",
              "          0,   0],\n",
              "       [  0,   0,   0,   0,   0,   0,   0,   0,   0,   0,   0,   0,   0,\n",
              "          0,  75, 251, 240,  57,   0,   0,   0,   0,   0,   0,   0,   0,\n",
              "          0,   0],\n",
              "       [  0,   0,   0,   0,   0,   0,   0,   0,   0,   0,   0,   0,   0,\n",
              "         19, 221, 254, 166,   0,   0,   0,   0,   0,   0,   0,   0,   0,\n",
              "          0,   0],\n",
              "       [  0,   0,   0,   0,   0,   0,   0,   0,   0,   0,   0,   0,   3,\n",
              "        203, 254, 219,  35,   0,   0,   0,   0,   0,   0,   0,   0,   0,\n",
              "          0,   0],\n",
              "       [  0,   0,   0,   0,   0,   0,   0,   0,   0,   0,   0,   0,  38,\n",
              "        254, 254,  77,   0,   0,   0,   0,   0,   0,   0,   0,   0,   0,\n",
              "          0,   0],\n",
              "       [  0,   0,   0,   0,   0,   0,   0,   0,   0,   0,   0,  31, 224,\n",
              "        254, 115,   1,   0,   0,   0,   0,   0,   0,   0,   0,   0,   0,\n",
              "          0,   0],\n",
              "       [  0,   0,   0,   0,   0,   0,   0,   0,   0,   0,   0, 133, 254,\n",
              "        254,  52,   0,   0,   0,   0,   0,   0,   0,   0,   0,   0,   0,\n",
              "          0,   0],\n",
              "       [  0,   0,   0,   0,   0,   0,   0,   0,   0,   0,  61, 242, 254,\n",
              "        254,  52,   0,   0,   0,   0,   0,   0,   0,   0,   0,   0,   0,\n",
              "          0,   0],\n",
              "       [  0,   0,   0,   0,   0,   0,   0,   0,   0,   0, 121, 254, 254,\n",
              "        219,  40,   0,   0,   0,   0,   0,   0,   0,   0,   0,   0,   0,\n",
              "          0,   0],\n",
              "       [  0,   0,   0,   0,   0,   0,   0,   0,   0,   0, 121, 254, 207,\n",
              "         18,   0,   0,   0,   0,   0,   0,   0,   0,   0,   0,   0,   0,\n",
              "          0,   0],\n",
              "       [  0,   0,   0,   0,   0,   0,   0,   0,   0,   0,   0,   0,   0,\n",
              "          0,   0,   0,   0,   0,   0,   0,   0,   0,   0,   0,   0,   0,\n",
              "          0,   0]], dtype=uint8)"
            ]
          },
          "metadata": {},
          "execution_count": 10
        }
      ]
    },
    {
      "cell_type": "code",
      "metadata": {
        "id": "tPNGXL8Zwto_",
        "colab": {
          "base_uri": "https://localhost:8080/"
        },
        "outputId": "47e5bed4-45ed-4a10-c12d-8f09ee489b8d"
      },
      "source": [
        "y_valid[0]"
      ],
      "execution_count": 11,
      "outputs": [
        {
          "output_type": "execute_result",
          "data": {
            "text/plain": [
              "7"
            ]
          },
          "metadata": {},
          "execution_count": 11
        }
      ]
    },
    {
      "cell_type": "markdown",
      "metadata": {
        "id": "9m62Mq_2wtpA"
      },
      "source": [
        "#### 데이터 전처리"
      ]
    },
    {
      "cell_type": "code",
      "metadata": {
        "id": "ik5wnd7TwtpA"
      },
      "source": [
        "X_train = X_train.reshape(60000, 784).astype('float32')\n",
        "X_valid = X_valid.reshape(10000, 784).astype('float32')"
      ],
      "execution_count": 12,
      "outputs": []
    },
    {
      "cell_type": "code",
      "metadata": {
        "id": "KZOvssgKwtpA"
      },
      "source": [
        "X_train /= 255\n",
        "X_valid /= 255"
      ],
      "execution_count": 13,
      "outputs": []
    },
    {
      "cell_type": "code",
      "metadata": {
        "id": "9AHY8GQGwtpB",
        "colab": {
          "base_uri": "https://localhost:8080/"
        },
        "outputId": "39686d3b-ef77-470b-a070-51662441829f"
      },
      "source": [
        "X_valid[0]"
      ],
      "execution_count": 14,
      "outputs": [
        {
          "output_type": "execute_result",
          "data": {
            "text/plain": [
              "array([0.        , 0.        , 0.        , 0.        , 0.        ,\n",
              "       0.        , 0.        , 0.        , 0.        , 0.        ,\n",
              "       0.        , 0.        , 0.        , 0.        , 0.        ,\n",
              "       0.        , 0.        , 0.        , 0.        , 0.        ,\n",
              "       0.        , 0.        , 0.        , 0.        , 0.        ,\n",
              "       0.        , 0.        , 0.        , 0.        , 0.        ,\n",
              "       0.        , 0.        , 0.        , 0.        , 0.        ,\n",
              "       0.        , 0.        , 0.        , 0.        , 0.        ,\n",
              "       0.        , 0.        , 0.        , 0.        , 0.        ,\n",
              "       0.        , 0.        , 0.        , 0.        , 0.        ,\n",
              "       0.        , 0.        , 0.        , 0.        , 0.        ,\n",
              "       0.        , 0.        , 0.        , 0.        , 0.        ,\n",
              "       0.        , 0.        , 0.        , 0.        , 0.        ,\n",
              "       0.        , 0.        , 0.        , 0.        , 0.        ,\n",
              "       0.        , 0.        , 0.        , 0.        , 0.        ,\n",
              "       0.        , 0.        , 0.        , 0.        , 0.        ,\n",
              "       0.        , 0.        , 0.        , 0.        , 0.        ,\n",
              "       0.        , 0.        , 0.        , 0.        , 0.        ,\n",
              "       0.        , 0.        , 0.        , 0.        , 0.        ,\n",
              "       0.        , 0.        , 0.        , 0.        , 0.        ,\n",
              "       0.        , 0.        , 0.        , 0.        , 0.        ,\n",
              "       0.        , 0.        , 0.        , 0.        , 0.        ,\n",
              "       0.        , 0.        , 0.        , 0.        , 0.        ,\n",
              "       0.        , 0.        , 0.        , 0.        , 0.        ,\n",
              "       0.        , 0.        , 0.        , 0.        , 0.        ,\n",
              "       0.        , 0.        , 0.        , 0.        , 0.        ,\n",
              "       0.        , 0.        , 0.        , 0.        , 0.        ,\n",
              "       0.        , 0.        , 0.        , 0.        , 0.        ,\n",
              "       0.        , 0.        , 0.        , 0.        , 0.        ,\n",
              "       0.        , 0.        , 0.        , 0.        , 0.        ,\n",
              "       0.        , 0.        , 0.        , 0.        , 0.        ,\n",
              "       0.        , 0.        , 0.        , 0.        , 0.        ,\n",
              "       0.        , 0.        , 0.        , 0.        , 0.        ,\n",
              "       0.        , 0.        , 0.        , 0.        , 0.        ,\n",
              "       0.        , 0.        , 0.        , 0.        , 0.        ,\n",
              "       0.        , 0.        , 0.        , 0.        , 0.        ,\n",
              "       0.        , 0.        , 0.        , 0.        , 0.        ,\n",
              "       0.        , 0.        , 0.        , 0.        , 0.        ,\n",
              "       0.        , 0.        , 0.        , 0.        , 0.        ,\n",
              "       0.        , 0.        , 0.        , 0.        , 0.        ,\n",
              "       0.        , 0.        , 0.32941177, 0.7254902 , 0.62352943,\n",
              "       0.5921569 , 0.23529412, 0.14117648, 0.        , 0.        ,\n",
              "       0.        , 0.        , 0.        , 0.        , 0.        ,\n",
              "       0.        , 0.        , 0.        , 0.        , 0.        ,\n",
              "       0.        , 0.        , 0.        , 0.        , 0.        ,\n",
              "       0.        , 0.        , 0.        , 0.        , 0.        ,\n",
              "       0.87058824, 0.99607843, 0.99607843, 0.99607843, 0.99607843,\n",
              "       0.94509804, 0.7764706 , 0.7764706 , 0.7764706 , 0.7764706 ,\n",
              "       0.7764706 , 0.7764706 , 0.7764706 , 0.7764706 , 0.6666667 ,\n",
              "       0.20392157, 0.        , 0.        , 0.        , 0.        ,\n",
              "       0.        , 0.        , 0.        , 0.        , 0.        ,\n",
              "       0.        , 0.        , 0.        , 0.2627451 , 0.44705883,\n",
              "       0.28235295, 0.44705883, 0.6392157 , 0.8901961 , 0.99607843,\n",
              "       0.88235295, 0.99607843, 0.99607843, 0.99607843, 0.98039216,\n",
              "       0.8980392 , 0.99607843, 0.99607843, 0.54901963, 0.        ,\n",
              "       0.        , 0.        , 0.        , 0.        , 0.        ,\n",
              "       0.        , 0.        , 0.        , 0.        , 0.        ,\n",
              "       0.        , 0.        , 0.        , 0.        , 0.        ,\n",
              "       0.        , 0.06666667, 0.25882354, 0.05490196, 0.2627451 ,\n",
              "       0.2627451 , 0.2627451 , 0.23137255, 0.08235294, 0.9254902 ,\n",
              "       0.99607843, 0.41568628, 0.        , 0.        , 0.        ,\n",
              "       0.        , 0.        , 0.        , 0.        , 0.        ,\n",
              "       0.        , 0.        , 0.        , 0.        , 0.        ,\n",
              "       0.        , 0.        , 0.        , 0.        , 0.        ,\n",
              "       0.        , 0.        , 0.        , 0.        , 0.        ,\n",
              "       0.        , 0.3254902 , 0.99215686, 0.81960785, 0.07058824,\n",
              "       0.        , 0.        , 0.        , 0.        , 0.        ,\n",
              "       0.        , 0.        , 0.        , 0.        , 0.        ,\n",
              "       0.        , 0.        , 0.        , 0.        , 0.        ,\n",
              "       0.        , 0.        , 0.        , 0.        , 0.        ,\n",
              "       0.        , 0.        , 0.        , 0.08627451, 0.9137255 ,\n",
              "       1.        , 0.3254902 , 0.        , 0.        , 0.        ,\n",
              "       0.        , 0.        , 0.        , 0.        , 0.        ,\n",
              "       0.        , 0.        , 0.        , 0.        , 0.        ,\n",
              "       0.        , 0.        , 0.        , 0.        , 0.        ,\n",
              "       0.        , 0.        , 0.        , 0.        , 0.        ,\n",
              "       0.        , 0.5058824 , 0.99607843, 0.93333334, 0.17254902,\n",
              "       0.        , 0.        , 0.        , 0.        , 0.        ,\n",
              "       0.        , 0.        , 0.        , 0.        , 0.        ,\n",
              "       0.        , 0.        , 0.        , 0.        , 0.        ,\n",
              "       0.        , 0.        , 0.        , 0.        , 0.        ,\n",
              "       0.        , 0.        , 0.        , 0.23137255, 0.9764706 ,\n",
              "       0.99607843, 0.24313726, 0.        , 0.        , 0.        ,\n",
              "       0.        , 0.        , 0.        , 0.        , 0.        ,\n",
              "       0.        , 0.        , 0.        , 0.        , 0.        ,\n",
              "       0.        , 0.        , 0.        , 0.        , 0.        ,\n",
              "       0.        , 0.        , 0.        , 0.        , 0.        ,\n",
              "       0.        , 0.52156866, 0.99607843, 0.73333335, 0.01960784,\n",
              "       0.        , 0.        , 0.        , 0.        , 0.        ,\n",
              "       0.        , 0.        , 0.        , 0.        , 0.        ,\n",
              "       0.        , 0.        , 0.        , 0.        , 0.        ,\n",
              "       0.        , 0.        , 0.        , 0.        , 0.        ,\n",
              "       0.        , 0.        , 0.        , 0.03529412, 0.8039216 ,\n",
              "       0.972549  , 0.22745098, 0.        , 0.        , 0.        ,\n",
              "       0.        , 0.        , 0.        , 0.        , 0.        ,\n",
              "       0.        , 0.        , 0.        , 0.        , 0.        ,\n",
              "       0.        , 0.        , 0.        , 0.        , 0.        ,\n",
              "       0.        , 0.        , 0.        , 0.        , 0.        ,\n",
              "       0.        , 0.49411765, 0.99607843, 0.7137255 , 0.        ,\n",
              "       0.        , 0.        , 0.        , 0.        , 0.        ,\n",
              "       0.        , 0.        , 0.        , 0.        , 0.        ,\n",
              "       0.        , 0.        , 0.        , 0.        , 0.        ,\n",
              "       0.        , 0.        , 0.        , 0.        , 0.        ,\n",
              "       0.        , 0.        , 0.        , 0.29411766, 0.9843137 ,\n",
              "       0.9411765 , 0.22352941, 0.        , 0.        , 0.        ,\n",
              "       0.        , 0.        , 0.        , 0.        , 0.        ,\n",
              "       0.        , 0.        , 0.        , 0.        , 0.        ,\n",
              "       0.        , 0.        , 0.        , 0.        , 0.        ,\n",
              "       0.        , 0.        , 0.        , 0.        , 0.        ,\n",
              "       0.07450981, 0.8666667 , 0.99607843, 0.6509804 , 0.        ,\n",
              "       0.        , 0.        , 0.        , 0.        , 0.        ,\n",
              "       0.        , 0.        , 0.        , 0.        , 0.        ,\n",
              "       0.        , 0.        , 0.        , 0.        , 0.        ,\n",
              "       0.        , 0.        , 0.        , 0.        , 0.        ,\n",
              "       0.        , 0.        , 0.01176471, 0.79607844, 0.99607843,\n",
              "       0.85882354, 0.13725491, 0.        , 0.        , 0.        ,\n",
              "       0.        , 0.        , 0.        , 0.        , 0.        ,\n",
              "       0.        , 0.        , 0.        , 0.        , 0.        ,\n",
              "       0.        , 0.        , 0.        , 0.        , 0.        ,\n",
              "       0.        , 0.        , 0.        , 0.        , 0.        ,\n",
              "       0.14901961, 0.99607843, 0.99607843, 0.3019608 , 0.        ,\n",
              "       0.        , 0.        , 0.        , 0.        , 0.        ,\n",
              "       0.        , 0.        , 0.        , 0.        , 0.        ,\n",
              "       0.        , 0.        , 0.        , 0.        , 0.        ,\n",
              "       0.        , 0.        , 0.        , 0.        , 0.        ,\n",
              "       0.        , 0.        , 0.12156863, 0.8784314 , 0.99607843,\n",
              "       0.4509804 , 0.00392157, 0.        , 0.        , 0.        ,\n",
              "       0.        , 0.        , 0.        , 0.        , 0.        ,\n",
              "       0.        , 0.        , 0.        , 0.        , 0.        ,\n",
              "       0.        , 0.        , 0.        , 0.        , 0.        ,\n",
              "       0.        , 0.        , 0.        , 0.        , 0.        ,\n",
              "       0.52156866, 0.99607843, 0.99607843, 0.20392157, 0.        ,\n",
              "       0.        , 0.        , 0.        , 0.        , 0.        ,\n",
              "       0.        , 0.        , 0.        , 0.        , 0.        ,\n",
              "       0.        , 0.        , 0.        , 0.        , 0.        ,\n",
              "       0.        , 0.        , 0.        , 0.        , 0.        ,\n",
              "       0.        , 0.        , 0.23921569, 0.9490196 , 0.99607843,\n",
              "       0.99607843, 0.20392157, 0.        , 0.        , 0.        ,\n",
              "       0.        , 0.        , 0.        , 0.        , 0.        ,\n",
              "       0.        , 0.        , 0.        , 0.        , 0.        ,\n",
              "       0.        , 0.        , 0.        , 0.        , 0.        ,\n",
              "       0.        , 0.        , 0.        , 0.        , 0.        ,\n",
              "       0.4745098 , 0.99607843, 0.99607843, 0.85882354, 0.15686275,\n",
              "       0.        , 0.        , 0.        , 0.        , 0.        ,\n",
              "       0.        , 0.        , 0.        , 0.        , 0.        ,\n",
              "       0.        , 0.        , 0.        , 0.        , 0.        ,\n",
              "       0.        , 0.        , 0.        , 0.        , 0.        ,\n",
              "       0.        , 0.        , 0.        , 0.4745098 , 0.99607843,\n",
              "       0.8117647 , 0.07058824, 0.        , 0.        , 0.        ,\n",
              "       0.        , 0.        , 0.        , 0.        , 0.        ,\n",
              "       0.        , 0.        , 0.        , 0.        , 0.        ,\n",
              "       0.        , 0.        , 0.        , 0.        , 0.        ,\n",
              "       0.        , 0.        , 0.        , 0.        , 0.        ,\n",
              "       0.        , 0.        , 0.        , 0.        , 0.        ,\n",
              "       0.        , 0.        , 0.        , 0.        , 0.        ,\n",
              "       0.        , 0.        , 0.        , 0.        , 0.        ,\n",
              "       0.        , 0.        , 0.        , 0.        ], dtype=float32)"
            ]
          },
          "metadata": {},
          "execution_count": 14
        }
      ]
    },
    {
      "cell_type": "code",
      "metadata": {
        "id": "rA4DxLPDwtpB"
      },
      "source": [
        "n_classes = 10\n",
        "y_train = keras.utils.to_categorical(y_train, n_classes)\n",
        "y_valid = keras.utils.to_categorical(y_valid, n_classes)"
      ],
      "execution_count": 15,
      "outputs": []
    },
    {
      "cell_type": "code",
      "metadata": {
        "id": "3VEHpHMUwtpB",
        "colab": {
          "base_uri": "https://localhost:8080/"
        },
        "outputId": "ff26652f-cd98-498d-94e3-af031fd5346f"
      },
      "source": [
        "y_valid[0]"
      ],
      "execution_count": 16,
      "outputs": [
        {
          "output_type": "execute_result",
          "data": {
            "text/plain": [
              "array([0., 0., 0., 0., 0., 0., 0., 1., 0., 0.], dtype=float32)"
            ]
          },
          "metadata": {},
          "execution_count": 16
        }
      ]
    },
    {
      "cell_type": "markdown",
      "metadata": {
        "id": "S3yjzy7LwtpC"
      },
      "source": [
        "#### 신경망 구조 설계"
      ]
    },
    {
      "cell_type": "code",
      "metadata": {
        "id": "lgfTchIFwtpC"
      },
      "source": [
        "model = Sequential()\n",
        "model.add(Dense(64, activation='sigmoid', input_shape=(784,)))\n",
        "model.add(Dense(10, activation='softmax'))"
      ],
      "execution_count": 17,
      "outputs": []
    },
    {
      "cell_type": "code",
      "metadata": {
        "id": "Ccl9J8qUwtpC",
        "colab": {
          "base_uri": "https://localhost:8080/"
        },
        "outputId": "ed035e3e-9dce-45a7-d335-cd2c92b232dc"
      },
      "source": [
        "model.summary()"
      ],
      "execution_count": 18,
      "outputs": [
        {
          "output_type": "stream",
          "name": "stdout",
          "text": [
            "Model: \"sequential\"\n",
            "_________________________________________________________________\n",
            " Layer (type)                Output Shape              Param #   \n",
            "=================================================================\n",
            " dense (Dense)               (None, 64)                50240     \n",
            "                                                                 \n",
            " dense_1 (Dense)             (None, 10)                650       \n",
            "                                                                 \n",
            "=================================================================\n",
            "Total params: 50,890\n",
            "Trainable params: 50,890\n",
            "Non-trainable params: 0\n",
            "_________________________________________________________________\n"
          ]
        }
      ]
    },
    {
      "cell_type": "code",
      "metadata": {
        "id": "KQ5LfYnlwtpC",
        "colab": {
          "base_uri": "https://localhost:8080/"
        },
        "outputId": "2ff1f9cf-280f-44ba-d689-a153ebd5f21b"
      },
      "source": [
        "(64*784)"
      ],
      "execution_count": 19,
      "outputs": [
        {
          "output_type": "execute_result",
          "data": {
            "text/plain": [
              "50176"
            ]
          },
          "metadata": {},
          "execution_count": 19
        }
      ]
    },
    {
      "cell_type": "code",
      "metadata": {
        "id": "nE1a8H-MwtpC",
        "colab": {
          "base_uri": "https://localhost:8080/"
        },
        "outputId": "47062065-e024-4995-db41-c833fa7e0ca2"
      },
      "source": [
        "(64*784)+64"
      ],
      "execution_count": 20,
      "outputs": [
        {
          "output_type": "execute_result",
          "data": {
            "text/plain": [
              "50240"
            ]
          },
          "metadata": {},
          "execution_count": 20
        }
      ]
    },
    {
      "cell_type": "code",
      "metadata": {
        "id": "3mhN327mwtpD",
        "colab": {
          "base_uri": "https://localhost:8080/"
        },
        "outputId": "87f4bc85-7469-4e17-8556-5b1915cf419a"
      },
      "source": [
        "(10*64)+10"
      ],
      "execution_count": 21,
      "outputs": [
        {
          "output_type": "execute_result",
          "data": {
            "text/plain": [
              "650"
            ]
          },
          "metadata": {},
          "execution_count": 21
        }
      ]
    },
    {
      "cell_type": "markdown",
      "metadata": {
        "id": "drBdTMUewtpD"
      },
      "source": [
        "#### 모델 컴파일"
      ]
    },
    {
      "cell_type": "code",
      "metadata": {
        "id": "PvinEUNpwtpD"
      },
      "source": [
        "model.compile(loss='mean_squared_error', optimizer=SGD(learning_rate=0.01), metrics=['accuracy'])"
      ],
      "execution_count": 22,
      "outputs": []
    },
    {
      "cell_type": "markdown",
      "metadata": {
        "id": "GmRBCOe5wtpD"
      },
      "source": [
        "#### 훈련!"
      ]
    },
    {
      "cell_type": "code",
      "metadata": {
        "id": "nUuMfyNZwtpD",
        "colab": {
          "base_uri": "https://localhost:8080/"
        },
        "outputId": "d0aa0ac1-7df3-4a8f-ff1b-da6d3d27d045"
      },
      "source": [
        "model.fit(X_train, y_train, batch_size=128, epochs=200, verbose=1, validation_data=(X_valid, y_valid))"
      ],
      "execution_count": 23,
      "outputs": [
        {
          "output_type": "stream",
          "name": "stdout",
          "text": [
            "Epoch 1/200\n",
            "469/469 [==============================] - 6s 6ms/step - loss: 0.0962 - accuracy: 0.0877 - val_loss: 0.0938 - val_accuracy: 0.0913\n",
            "Epoch 2/200\n",
            "469/469 [==============================] - 3s 6ms/step - loss: 0.0928 - accuracy: 0.0930 - val_loss: 0.0918 - val_accuracy: 0.1056\n",
            "Epoch 3/200\n",
            "469/469 [==============================] - 3s 6ms/step - loss: 0.0914 - accuracy: 0.1230 - val_loss: 0.0908 - val_accuracy: 0.1506\n",
            "Epoch 4/200\n",
            "469/469 [==============================] - 2s 4ms/step - loss: 0.0906 - accuracy: 0.1632 - val_loss: 0.0902 - val_accuracy: 0.1775\n",
            "Epoch 5/200\n",
            "469/469 [==============================] - 2s 3ms/step - loss: 0.0900 - accuracy: 0.1816 - val_loss: 0.0897 - val_accuracy: 0.1918\n",
            "Epoch 6/200\n",
            "469/469 [==============================] - 2s 3ms/step - loss: 0.0895 - accuracy: 0.1964 - val_loss: 0.0892 - val_accuracy: 0.2127\n",
            "Epoch 7/200\n",
            "469/469 [==============================] - 1s 3ms/step - loss: 0.0891 - accuracy: 0.2178 - val_loss: 0.0888 - val_accuracy: 0.2354\n",
            "Epoch 8/200\n",
            "469/469 [==============================] - 1s 3ms/step - loss: 0.0887 - accuracy: 0.2364 - val_loss: 0.0884 - val_accuracy: 0.2542\n",
            "Epoch 9/200\n",
            "469/469 [==============================] - 1s 3ms/step - loss: 0.0883 - accuracy: 0.2571 - val_loss: 0.0880 - val_accuracy: 0.2766\n",
            "Epoch 10/200\n",
            "469/469 [==============================] - 2s 4ms/step - loss: 0.0879 - accuracy: 0.2883 - val_loss: 0.0877 - val_accuracy: 0.3176\n",
            "Epoch 11/200\n",
            "469/469 [==============================] - 1s 3ms/step - loss: 0.0875 - accuracy: 0.3277 - val_loss: 0.0873 - val_accuracy: 0.3560\n",
            "Epoch 12/200\n",
            "469/469 [==============================] - 2s 3ms/step - loss: 0.0872 - accuracy: 0.3574 - val_loss: 0.0869 - val_accuracy: 0.3729\n",
            "Epoch 13/200\n",
            "469/469 [==============================] - 2s 3ms/step - loss: 0.0868 - accuracy: 0.3719 - val_loss: 0.0866 - val_accuracy: 0.3858\n",
            "Epoch 14/200\n",
            "469/469 [==============================] - 2s 4ms/step - loss: 0.0864 - accuracy: 0.3805 - val_loss: 0.0862 - val_accuracy: 0.3930\n",
            "Epoch 15/200\n",
            "469/469 [==============================] - 2s 3ms/step - loss: 0.0861 - accuracy: 0.3876 - val_loss: 0.0858 - val_accuracy: 0.3957\n",
            "Epoch 16/200\n",
            "469/469 [==============================] - 2s 4ms/step - loss: 0.0857 - accuracy: 0.3898 - val_loss: 0.0854 - val_accuracy: 0.4029\n",
            "Epoch 17/200\n",
            "469/469 [==============================] - 2s 4ms/step - loss: 0.0853 - accuracy: 0.3950 - val_loss: 0.0850 - val_accuracy: 0.4083\n",
            "Epoch 18/200\n",
            "469/469 [==============================] - 1s 3ms/step - loss: 0.0849 - accuracy: 0.3989 - val_loss: 0.0846 - val_accuracy: 0.4146\n",
            "Epoch 19/200\n",
            "469/469 [==============================] - 2s 4ms/step - loss: 0.0845 - accuracy: 0.4043 - val_loss: 0.0842 - val_accuracy: 0.4189\n",
            "Epoch 20/200\n",
            "469/469 [==============================] - 2s 5ms/step - loss: 0.0841 - accuracy: 0.4101 - val_loss: 0.0838 - val_accuracy: 0.4238\n",
            "Epoch 21/200\n",
            "469/469 [==============================] - 2s 4ms/step - loss: 0.0837 - accuracy: 0.4142 - val_loss: 0.0834 - val_accuracy: 0.4297\n",
            "Epoch 22/200\n",
            "469/469 [==============================] - 2s 3ms/step - loss: 0.0833 - accuracy: 0.4186 - val_loss: 0.0830 - val_accuracy: 0.4331\n",
            "Epoch 23/200\n",
            "469/469 [==============================] - 2s 3ms/step - loss: 0.0829 - accuracy: 0.4231 - val_loss: 0.0825 - val_accuracy: 0.4376\n",
            "Epoch 24/200\n",
            "469/469 [==============================] - 2s 3ms/step - loss: 0.0824 - accuracy: 0.4294 - val_loss: 0.0821 - val_accuracy: 0.4427\n",
            "Epoch 25/200\n",
            "469/469 [==============================] - 2s 4ms/step - loss: 0.0820 - accuracy: 0.4347 - val_loss: 0.0817 - val_accuracy: 0.4466\n",
            "Epoch 26/200\n",
            "469/469 [==============================] - 2s 3ms/step - loss: 0.0816 - accuracy: 0.4385 - val_loss: 0.0812 - val_accuracy: 0.4503\n",
            "Epoch 27/200\n",
            "469/469 [==============================] - 2s 3ms/step - loss: 0.0811 - accuracy: 0.4434 - val_loss: 0.0807 - val_accuracy: 0.4562\n",
            "Epoch 28/200\n",
            "469/469 [==============================] - 2s 4ms/step - loss: 0.0807 - accuracy: 0.4484 - val_loss: 0.0803 - val_accuracy: 0.4611\n",
            "Epoch 29/200\n",
            "469/469 [==============================] - 1s 3ms/step - loss: 0.0802 - accuracy: 0.4527 - val_loss: 0.0798 - val_accuracy: 0.4659\n",
            "Epoch 30/200\n",
            "469/469 [==============================] - 1s 3ms/step - loss: 0.0797 - accuracy: 0.4588 - val_loss: 0.0793 - val_accuracy: 0.4700\n",
            "Epoch 31/200\n",
            "469/469 [==============================] - 2s 3ms/step - loss: 0.0792 - accuracy: 0.4633 - val_loss: 0.0788 - val_accuracy: 0.4755\n",
            "Epoch 32/200\n",
            "469/469 [==============================] - 2s 3ms/step - loss: 0.0788 - accuracy: 0.4685 - val_loss: 0.0783 - val_accuracy: 0.4801\n",
            "Epoch 33/200\n",
            "469/469 [==============================] - 2s 3ms/step - loss: 0.0783 - accuracy: 0.4718 - val_loss: 0.0778 - val_accuracy: 0.4844\n",
            "Epoch 34/200\n",
            "469/469 [==============================] - 1s 3ms/step - loss: 0.0778 - accuracy: 0.4772 - val_loss: 0.0773 - val_accuracy: 0.4892\n",
            "Epoch 35/200\n",
            "469/469 [==============================] - 2s 3ms/step - loss: 0.0773 - accuracy: 0.4821 - val_loss: 0.0768 - val_accuracy: 0.4926\n",
            "Epoch 36/200\n",
            "469/469 [==============================] - 2s 3ms/step - loss: 0.0768 - accuracy: 0.4862 - val_loss: 0.0763 - val_accuracy: 0.4962\n",
            "Epoch 37/200\n",
            "469/469 [==============================] - 1s 3ms/step - loss: 0.0763 - accuracy: 0.4902 - val_loss: 0.0758 - val_accuracy: 0.4991\n",
            "Epoch 38/200\n",
            "469/469 [==============================] - 2s 4ms/step - loss: 0.0757 - accuracy: 0.4945 - val_loss: 0.0753 - val_accuracy: 0.5025\n",
            "Epoch 39/200\n",
            "469/469 [==============================] - 2s 4ms/step - loss: 0.0752 - accuracy: 0.4976 - val_loss: 0.0747 - val_accuracy: 0.5051\n",
            "Epoch 40/200\n",
            "469/469 [==============================] - 1s 3ms/step - loss: 0.0747 - accuracy: 0.5021 - val_loss: 0.0742 - val_accuracy: 0.5091\n",
            "Epoch 41/200\n",
            "469/469 [==============================] - 2s 3ms/step - loss: 0.0742 - accuracy: 0.5049 - val_loss: 0.0737 - val_accuracy: 0.5134\n",
            "Epoch 42/200\n",
            "469/469 [==============================] - 2s 4ms/step - loss: 0.0737 - accuracy: 0.5083 - val_loss: 0.0731 - val_accuracy: 0.5171\n",
            "Epoch 43/200\n",
            "469/469 [==============================] - 2s 4ms/step - loss: 0.0731 - accuracy: 0.5116 - val_loss: 0.0726 - val_accuracy: 0.5204\n",
            "Epoch 44/200\n",
            "469/469 [==============================] - 2s 4ms/step - loss: 0.0726 - accuracy: 0.5152 - val_loss: 0.0721 - val_accuracy: 0.5237\n",
            "Epoch 45/200\n",
            "469/469 [==============================] - 1s 3ms/step - loss: 0.0721 - accuracy: 0.5187 - val_loss: 0.0715 - val_accuracy: 0.5271\n",
            "Epoch 46/200\n",
            "469/469 [==============================] - 1s 3ms/step - loss: 0.0716 - accuracy: 0.5220 - val_loss: 0.0710 - val_accuracy: 0.5294\n",
            "Epoch 47/200\n",
            "469/469 [==============================] - 1s 3ms/step - loss: 0.0710 - accuracy: 0.5247 - val_loss: 0.0704 - val_accuracy: 0.5323\n",
            "Epoch 48/200\n",
            "469/469 [==============================] - 2s 4ms/step - loss: 0.0705 - accuracy: 0.5282 - val_loss: 0.0699 - val_accuracy: 0.5358\n",
            "Epoch 49/200\n",
            "469/469 [==============================] - 2s 3ms/step - loss: 0.0700 - accuracy: 0.5307 - val_loss: 0.0694 - val_accuracy: 0.5399\n",
            "Epoch 50/200\n",
            "469/469 [==============================] - 2s 3ms/step - loss: 0.0694 - accuracy: 0.5336 - val_loss: 0.0688 - val_accuracy: 0.5430\n",
            "Epoch 51/200\n",
            "469/469 [==============================] - 2s 3ms/step - loss: 0.0689 - accuracy: 0.5368 - val_loss: 0.0683 - val_accuracy: 0.5456\n",
            "Epoch 52/200\n",
            "469/469 [==============================] - 2s 4ms/step - loss: 0.0684 - accuracy: 0.5402 - val_loss: 0.0678 - val_accuracy: 0.5480\n",
            "Epoch 53/200\n",
            "469/469 [==============================] - 2s 4ms/step - loss: 0.0679 - accuracy: 0.5432 - val_loss: 0.0673 - val_accuracy: 0.5505\n",
            "Epoch 54/200\n",
            "469/469 [==============================] - 2s 4ms/step - loss: 0.0674 - accuracy: 0.5459 - val_loss: 0.0667 - val_accuracy: 0.5534\n",
            "Epoch 55/200\n",
            "469/469 [==============================] - 2s 3ms/step - loss: 0.0668 - accuracy: 0.5487 - val_loss: 0.0662 - val_accuracy: 0.5585\n",
            "Epoch 56/200\n",
            "469/469 [==============================] - 2s 3ms/step - loss: 0.0663 - accuracy: 0.5520 - val_loss: 0.0657 - val_accuracy: 0.5621\n",
            "Epoch 57/200\n",
            "469/469 [==============================] - 2s 3ms/step - loss: 0.0658 - accuracy: 0.5558 - val_loss: 0.0652 - val_accuracy: 0.5657\n",
            "Epoch 58/200\n",
            "469/469 [==============================] - 2s 3ms/step - loss: 0.0653 - accuracy: 0.5590 - val_loss: 0.0647 - val_accuracy: 0.5694\n",
            "Epoch 59/200\n",
            "469/469 [==============================] - 2s 4ms/step - loss: 0.0648 - accuracy: 0.5627 - val_loss: 0.0642 - val_accuracy: 0.5728\n",
            "Epoch 60/200\n",
            "469/469 [==============================] - 2s 5ms/step - loss: 0.0643 - accuracy: 0.5664 - val_loss: 0.0637 - val_accuracy: 0.5772\n",
            "Epoch 61/200\n",
            "469/469 [==============================] - 2s 3ms/step - loss: 0.0638 - accuracy: 0.5699 - val_loss: 0.0632 - val_accuracy: 0.5815\n",
            "Epoch 62/200\n",
            "469/469 [==============================] - 2s 4ms/step - loss: 0.0634 - accuracy: 0.5745 - val_loss: 0.0627 - val_accuracy: 0.5867\n",
            "Epoch 63/200\n",
            "469/469 [==============================] - 2s 3ms/step - loss: 0.0629 - accuracy: 0.5781 - val_loss: 0.0622 - val_accuracy: 0.5911\n",
            "Epoch 64/200\n",
            "469/469 [==============================] - 2s 3ms/step - loss: 0.0624 - accuracy: 0.5825 - val_loss: 0.0617 - val_accuracy: 0.5961\n",
            "Epoch 65/200\n",
            "469/469 [==============================] - 2s 4ms/step - loss: 0.0619 - accuracy: 0.5877 - val_loss: 0.0613 - val_accuracy: 0.6007\n",
            "Epoch 66/200\n",
            "469/469 [==============================] - 2s 3ms/step - loss: 0.0615 - accuracy: 0.5926 - val_loss: 0.0608 - val_accuracy: 0.6063\n",
            "Epoch 67/200\n",
            "469/469 [==============================] - 2s 3ms/step - loss: 0.0610 - accuracy: 0.5980 - val_loss: 0.0603 - val_accuracy: 0.6115\n",
            "Epoch 68/200\n",
            "469/469 [==============================] - 2s 3ms/step - loss: 0.0606 - accuracy: 0.6036 - val_loss: 0.0599 - val_accuracy: 0.6165\n",
            "Epoch 69/200\n",
            "469/469 [==============================] - 2s 3ms/step - loss: 0.0601 - accuracy: 0.6089 - val_loss: 0.0594 - val_accuracy: 0.6213\n",
            "Epoch 70/200\n",
            "469/469 [==============================] - 2s 3ms/step - loss: 0.0597 - accuracy: 0.6137 - val_loss: 0.0590 - val_accuracy: 0.6266\n",
            "Epoch 71/200\n",
            "469/469 [==============================] - 2s 4ms/step - loss: 0.0592 - accuracy: 0.6187 - val_loss: 0.0585 - val_accuracy: 0.6313\n",
            "Epoch 72/200\n",
            "469/469 [==============================] - 2s 3ms/step - loss: 0.0588 - accuracy: 0.6241 - val_loss: 0.0581 - val_accuracy: 0.6359\n",
            "Epoch 73/200\n",
            "469/469 [==============================] - 2s 3ms/step - loss: 0.0584 - accuracy: 0.6285 - val_loss: 0.0576 - val_accuracy: 0.6420\n",
            "Epoch 74/200\n",
            "469/469 [==============================] - 2s 3ms/step - loss: 0.0579 - accuracy: 0.6338 - val_loss: 0.0572 - val_accuracy: 0.6473\n",
            "Epoch 75/200\n",
            "469/469 [==============================] - 2s 3ms/step - loss: 0.0575 - accuracy: 0.6381 - val_loss: 0.0568 - val_accuracy: 0.6520\n",
            "Epoch 76/200\n",
            "469/469 [==============================] - 2s 4ms/step - loss: 0.0571 - accuracy: 0.6436 - val_loss: 0.0564 - val_accuracy: 0.6578\n",
            "Epoch 77/200\n",
            "469/469 [==============================] - 2s 4ms/step - loss: 0.0567 - accuracy: 0.6485 - val_loss: 0.0559 - val_accuracy: 0.6638\n",
            "Epoch 78/200\n",
            "469/469 [==============================] - 2s 3ms/step - loss: 0.0563 - accuracy: 0.6529 - val_loss: 0.0555 - val_accuracy: 0.6678\n",
            "Epoch 79/200\n",
            "469/469 [==============================] - 2s 4ms/step - loss: 0.0559 - accuracy: 0.6576 - val_loss: 0.0551 - val_accuracy: 0.6712\n",
            "Epoch 80/200\n",
            "469/469 [==============================] - 2s 4ms/step - loss: 0.0555 - accuracy: 0.6629 - val_loss: 0.0547 - val_accuracy: 0.6749\n",
            "Epoch 81/200\n",
            "469/469 [==============================] - 2s 3ms/step - loss: 0.0551 - accuracy: 0.6671 - val_loss: 0.0543 - val_accuracy: 0.6780\n",
            "Epoch 82/200\n",
            "469/469 [==============================] - 2s 3ms/step - loss: 0.0547 - accuracy: 0.6722 - val_loss: 0.0539 - val_accuracy: 0.6821\n",
            "Epoch 83/200\n",
            "469/469 [==============================] - 2s 4ms/step - loss: 0.0543 - accuracy: 0.6765 - val_loss: 0.0535 - val_accuracy: 0.6860\n",
            "Epoch 84/200\n",
            "469/469 [==============================] - 2s 4ms/step - loss: 0.0539 - accuracy: 0.6804 - val_loss: 0.0531 - val_accuracy: 0.6899\n",
            "Epoch 85/200\n",
            "469/469 [==============================] - 2s 4ms/step - loss: 0.0535 - accuracy: 0.6839 - val_loss: 0.0528 - val_accuracy: 0.6938\n",
            "Epoch 86/200\n",
            "469/469 [==============================] - 2s 4ms/step - loss: 0.0532 - accuracy: 0.6884 - val_loss: 0.0524 - val_accuracy: 0.6977\n",
            "Epoch 87/200\n",
            "469/469 [==============================] - 2s 3ms/step - loss: 0.0528 - accuracy: 0.6923 - val_loss: 0.0520 - val_accuracy: 0.7023\n",
            "Epoch 88/200\n",
            "469/469 [==============================] - 2s 4ms/step - loss: 0.0524 - accuracy: 0.6966 - val_loss: 0.0516 - val_accuracy: 0.7063\n",
            "Epoch 89/200\n",
            "469/469 [==============================] - 2s 4ms/step - loss: 0.0521 - accuracy: 0.6999 - val_loss: 0.0513 - val_accuracy: 0.7102\n",
            "Epoch 90/200\n",
            "469/469 [==============================] - 2s 4ms/step - loss: 0.0517 - accuracy: 0.7035 - val_loss: 0.0509 - val_accuracy: 0.7128\n",
            "Epoch 91/200\n",
            "469/469 [==============================] - 2s 3ms/step - loss: 0.0513 - accuracy: 0.7064 - val_loss: 0.0505 - val_accuracy: 0.7169\n",
            "Epoch 92/200\n",
            "469/469 [==============================] - 2s 4ms/step - loss: 0.0510 - accuracy: 0.7099 - val_loss: 0.0502 - val_accuracy: 0.7193\n",
            "Epoch 93/200\n",
            "469/469 [==============================] - 2s 3ms/step - loss: 0.0506 - accuracy: 0.7126 - val_loss: 0.0498 - val_accuracy: 0.7230\n",
            "Epoch 94/200\n",
            "469/469 [==============================] - 2s 3ms/step - loss: 0.0503 - accuracy: 0.7155 - val_loss: 0.0495 - val_accuracy: 0.7257\n",
            "Epoch 95/200\n",
            "469/469 [==============================] - 2s 4ms/step - loss: 0.0499 - accuracy: 0.7182 - val_loss: 0.0491 - val_accuracy: 0.7288\n",
            "Epoch 96/200\n",
            "469/469 [==============================] - 2s 3ms/step - loss: 0.0496 - accuracy: 0.7204 - val_loss: 0.0488 - val_accuracy: 0.7308\n",
            "Epoch 97/200\n",
            "469/469 [==============================] - 2s 3ms/step - loss: 0.0493 - accuracy: 0.7233 - val_loss: 0.0484 - val_accuracy: 0.7331\n",
            "Epoch 98/200\n",
            "469/469 [==============================] - 2s 3ms/step - loss: 0.0489 - accuracy: 0.7254 - val_loss: 0.0481 - val_accuracy: 0.7362\n",
            "Epoch 99/200\n",
            "469/469 [==============================] - 2s 4ms/step - loss: 0.0486 - accuracy: 0.7283 - val_loss: 0.0478 - val_accuracy: 0.7385\n",
            "Epoch 100/200\n",
            "469/469 [==============================] - 2s 4ms/step - loss: 0.0483 - accuracy: 0.7308 - val_loss: 0.0474 - val_accuracy: 0.7415\n",
            "Epoch 101/200\n",
            "469/469 [==============================] - 2s 3ms/step - loss: 0.0480 - accuracy: 0.7329 - val_loss: 0.0471 - val_accuracy: 0.7436\n",
            "Epoch 102/200\n",
            "469/469 [==============================] - 2s 4ms/step - loss: 0.0476 - accuracy: 0.7352 - val_loss: 0.0468 - val_accuracy: 0.7451\n",
            "Epoch 103/200\n",
            "469/469 [==============================] - 2s 3ms/step - loss: 0.0473 - accuracy: 0.7378 - val_loss: 0.0465 - val_accuracy: 0.7472\n",
            "Epoch 104/200\n",
            "469/469 [==============================] - 2s 4ms/step - loss: 0.0470 - accuracy: 0.7405 - val_loss: 0.0461 - val_accuracy: 0.7504\n",
            "Epoch 105/200\n",
            "469/469 [==============================] - 2s 3ms/step - loss: 0.0467 - accuracy: 0.7430 - val_loss: 0.0458 - val_accuracy: 0.7523\n",
            "Epoch 106/200\n",
            "469/469 [==============================] - 2s 3ms/step - loss: 0.0464 - accuracy: 0.7446 - val_loss: 0.0455 - val_accuracy: 0.7552\n",
            "Epoch 107/200\n",
            "469/469 [==============================] - 2s 3ms/step - loss: 0.0461 - accuracy: 0.7468 - val_loss: 0.0452 - val_accuracy: 0.7561\n",
            "Epoch 108/200\n",
            "469/469 [==============================] - 2s 4ms/step - loss: 0.0458 - accuracy: 0.7491 - val_loss: 0.0449 - val_accuracy: 0.7591\n",
            "Epoch 109/200\n",
            "469/469 [==============================] - 2s 3ms/step - loss: 0.0455 - accuracy: 0.7511 - val_loss: 0.0446 - val_accuracy: 0.7609\n",
            "Epoch 110/200\n",
            "469/469 [==============================] - 2s 4ms/step - loss: 0.0452 - accuracy: 0.7533 - val_loss: 0.0443 - val_accuracy: 0.7630\n",
            "Epoch 111/200\n",
            "469/469 [==============================] - 2s 3ms/step - loss: 0.0449 - accuracy: 0.7555 - val_loss: 0.0440 - val_accuracy: 0.7648\n",
            "Epoch 112/200\n",
            "469/469 [==============================] - 2s 4ms/step - loss: 0.0446 - accuracy: 0.7572 - val_loss: 0.0437 - val_accuracy: 0.7674\n",
            "Epoch 113/200\n",
            "469/469 [==============================] - 2s 3ms/step - loss: 0.0443 - accuracy: 0.7589 - val_loss: 0.0434 - val_accuracy: 0.7694\n",
            "Epoch 114/200\n",
            "469/469 [==============================] - 2s 3ms/step - loss: 0.0440 - accuracy: 0.7610 - val_loss: 0.0431 - val_accuracy: 0.7713\n",
            "Epoch 115/200\n",
            "469/469 [==============================] - 2s 3ms/step - loss: 0.0437 - accuracy: 0.7633 - val_loss: 0.0428 - val_accuracy: 0.7728\n",
            "Epoch 116/200\n",
            "469/469 [==============================] - 2s 3ms/step - loss: 0.0435 - accuracy: 0.7653 - val_loss: 0.0426 - val_accuracy: 0.7746\n",
            "Epoch 117/200\n",
            "469/469 [==============================] - 2s 4ms/step - loss: 0.0432 - accuracy: 0.7671 - val_loss: 0.0423 - val_accuracy: 0.7763\n",
            "Epoch 118/200\n",
            "469/469 [==============================] - 2s 3ms/step - loss: 0.0429 - accuracy: 0.7687 - val_loss: 0.0420 - val_accuracy: 0.7782\n",
            "Epoch 119/200\n",
            "469/469 [==============================] - 2s 3ms/step - loss: 0.0426 - accuracy: 0.7711 - val_loss: 0.0417 - val_accuracy: 0.7803\n",
            "Epoch 120/200\n",
            "469/469 [==============================] - 2s 3ms/step - loss: 0.0424 - accuracy: 0.7730 - val_loss: 0.0415 - val_accuracy: 0.7834\n",
            "Epoch 121/200\n",
            "469/469 [==============================] - 2s 3ms/step - loss: 0.0421 - accuracy: 0.7749 - val_loss: 0.0412 - val_accuracy: 0.7859\n",
            "Epoch 122/200\n",
            "469/469 [==============================] - 2s 3ms/step - loss: 0.0419 - accuracy: 0.7770 - val_loss: 0.0409 - val_accuracy: 0.7883\n",
            "Epoch 123/200\n",
            "469/469 [==============================] - 2s 3ms/step - loss: 0.0416 - accuracy: 0.7789 - val_loss: 0.0407 - val_accuracy: 0.7899\n",
            "Epoch 124/200\n",
            "469/469 [==============================] - 2s 3ms/step - loss: 0.0413 - accuracy: 0.7806 - val_loss: 0.0404 - val_accuracy: 0.7916\n",
            "Epoch 125/200\n",
            "469/469 [==============================] - 2s 4ms/step - loss: 0.0411 - accuracy: 0.7829 - val_loss: 0.0402 - val_accuracy: 0.7933\n",
            "Epoch 126/200\n",
            "469/469 [==============================] - 2s 4ms/step - loss: 0.0408 - accuracy: 0.7850 - val_loss: 0.0399 - val_accuracy: 0.7953\n",
            "Epoch 127/200\n",
            "469/469 [==============================] - 2s 4ms/step - loss: 0.0406 - accuracy: 0.7864 - val_loss: 0.0397 - val_accuracy: 0.7971\n",
            "Epoch 128/200\n",
            "469/469 [==============================] - 2s 3ms/step - loss: 0.0403 - accuracy: 0.7886 - val_loss: 0.0394 - val_accuracy: 0.7983\n",
            "Epoch 129/200\n",
            "469/469 [==============================] - 2s 4ms/step - loss: 0.0401 - accuracy: 0.7905 - val_loss: 0.0392 - val_accuracy: 0.8001\n",
            "Epoch 130/200\n",
            "469/469 [==============================] - 2s 4ms/step - loss: 0.0399 - accuracy: 0.7926 - val_loss: 0.0389 - val_accuracy: 0.8020\n",
            "Epoch 131/200\n",
            "469/469 [==============================] - 2s 3ms/step - loss: 0.0396 - accuracy: 0.7938 - val_loss: 0.0387 - val_accuracy: 0.8042\n",
            "Epoch 132/200\n",
            "469/469 [==============================] - 2s 3ms/step - loss: 0.0394 - accuracy: 0.7960 - val_loss: 0.0384 - val_accuracy: 0.8060\n",
            "Epoch 133/200\n",
            "469/469 [==============================] - 2s 4ms/step - loss: 0.0391 - accuracy: 0.7982 - val_loss: 0.0382 - val_accuracy: 0.8074\n",
            "Epoch 134/200\n",
            "469/469 [==============================] - 2s 3ms/step - loss: 0.0389 - accuracy: 0.8001 - val_loss: 0.0380 - val_accuracy: 0.8096\n",
            "Epoch 135/200\n",
            "469/469 [==============================] - 2s 3ms/step - loss: 0.0387 - accuracy: 0.8016 - val_loss: 0.0378 - val_accuracy: 0.8110\n",
            "Epoch 136/200\n",
            "469/469 [==============================] - 2s 3ms/step - loss: 0.0385 - accuracy: 0.8034 - val_loss: 0.0375 - val_accuracy: 0.8129\n",
            "Epoch 137/200\n",
            "469/469 [==============================] - 2s 3ms/step - loss: 0.0382 - accuracy: 0.8053 - val_loss: 0.0373 - val_accuracy: 0.8148\n",
            "Epoch 138/200\n",
            "469/469 [==============================] - 2s 3ms/step - loss: 0.0380 - accuracy: 0.8070 - val_loss: 0.0371 - val_accuracy: 0.8165\n",
            "Epoch 139/200\n",
            "469/469 [==============================] - 2s 4ms/step - loss: 0.0378 - accuracy: 0.8089 - val_loss: 0.0369 - val_accuracy: 0.8178\n",
            "Epoch 140/200\n",
            "469/469 [==============================] - 2s 3ms/step - loss: 0.0376 - accuracy: 0.8102 - val_loss: 0.0366 - val_accuracy: 0.8195\n",
            "Epoch 141/200\n",
            "469/469 [==============================] - 2s 3ms/step - loss: 0.0374 - accuracy: 0.8120 - val_loss: 0.0364 - val_accuracy: 0.8216\n",
            "Epoch 142/200\n",
            "469/469 [==============================] - 2s 4ms/step - loss: 0.0372 - accuracy: 0.8134 - val_loss: 0.0362 - val_accuracy: 0.8242\n",
            "Epoch 143/200\n",
            "469/469 [==============================] - 2s 4ms/step - loss: 0.0370 - accuracy: 0.8150 - val_loss: 0.0360 - val_accuracy: 0.8259\n",
            "Epoch 144/200\n",
            "469/469 [==============================] - 2s 4ms/step - loss: 0.0368 - accuracy: 0.8166 - val_loss: 0.0358 - val_accuracy: 0.8269\n",
            "Epoch 145/200\n",
            "469/469 [==============================] - 2s 4ms/step - loss: 0.0365 - accuracy: 0.8179 - val_loss: 0.0356 - val_accuracy: 0.8283\n",
            "Epoch 146/200\n",
            "469/469 [==============================] - 2s 4ms/step - loss: 0.0363 - accuracy: 0.8190 - val_loss: 0.0354 - val_accuracy: 0.8291\n",
            "Epoch 147/200\n",
            "469/469 [==============================] - 2s 3ms/step - loss: 0.0361 - accuracy: 0.8206 - val_loss: 0.0352 - val_accuracy: 0.8302\n",
            "Epoch 148/200\n",
            "469/469 [==============================] - 2s 3ms/step - loss: 0.0360 - accuracy: 0.8220 - val_loss: 0.0350 - val_accuracy: 0.8309\n",
            "Epoch 149/200\n",
            "469/469 [==============================] - 2s 3ms/step - loss: 0.0358 - accuracy: 0.8230 - val_loss: 0.0348 - val_accuracy: 0.8320\n",
            "Epoch 150/200\n",
            "469/469 [==============================] - 2s 3ms/step - loss: 0.0356 - accuracy: 0.8245 - val_loss: 0.0346 - val_accuracy: 0.8337\n",
            "Epoch 151/200\n",
            "469/469 [==============================] - 2s 4ms/step - loss: 0.0354 - accuracy: 0.8255 - val_loss: 0.0344 - val_accuracy: 0.8352\n",
            "Epoch 152/200\n",
            "469/469 [==============================] - 2s 3ms/step - loss: 0.0352 - accuracy: 0.8265 - val_loss: 0.0342 - val_accuracy: 0.8361\n",
            "Epoch 153/200\n",
            "469/469 [==============================] - 2s 3ms/step - loss: 0.0350 - accuracy: 0.8284 - val_loss: 0.0340 - val_accuracy: 0.8374\n",
            "Epoch 154/200\n",
            "469/469 [==============================] - 2s 3ms/step - loss: 0.0348 - accuracy: 0.8291 - val_loss: 0.0338 - val_accuracy: 0.8381\n",
            "Epoch 155/200\n",
            "469/469 [==============================] - 2s 3ms/step - loss: 0.0346 - accuracy: 0.8306 - val_loss: 0.0337 - val_accuracy: 0.8394\n",
            "Epoch 156/200\n",
            "469/469 [==============================] - 2s 3ms/step - loss: 0.0345 - accuracy: 0.8316 - val_loss: 0.0335 - val_accuracy: 0.8409\n",
            "Epoch 157/200\n",
            "469/469 [==============================] - 2s 3ms/step - loss: 0.0343 - accuracy: 0.8325 - val_loss: 0.0333 - val_accuracy: 0.8417\n",
            "Epoch 158/200\n",
            "469/469 [==============================] - 2s 3ms/step - loss: 0.0341 - accuracy: 0.8336 - val_loss: 0.0331 - val_accuracy: 0.8426\n",
            "Epoch 159/200\n",
            "469/469 [==============================] - 2s 3ms/step - loss: 0.0339 - accuracy: 0.8344 - val_loss: 0.0330 - val_accuracy: 0.8434\n",
            "Epoch 160/200\n",
            "469/469 [==============================] - 2s 3ms/step - loss: 0.0338 - accuracy: 0.8354 - val_loss: 0.0328 - val_accuracy: 0.8443\n",
            "Epoch 161/200\n",
            "469/469 [==============================] - 2s 3ms/step - loss: 0.0336 - accuracy: 0.8363 - val_loss: 0.0326 - val_accuracy: 0.8456\n",
            "Epoch 162/200\n",
            "469/469 [==============================] - 2s 4ms/step - loss: 0.0334 - accuracy: 0.8373 - val_loss: 0.0324 - val_accuracy: 0.8463\n",
            "Epoch 163/200\n",
            "469/469 [==============================] - 2s 4ms/step - loss: 0.0333 - accuracy: 0.8388 - val_loss: 0.0323 - val_accuracy: 0.8472\n",
            "Epoch 164/200\n",
            "469/469 [==============================] - 2s 3ms/step - loss: 0.0331 - accuracy: 0.8394 - val_loss: 0.0321 - val_accuracy: 0.8483\n",
            "Epoch 165/200\n",
            "469/469 [==============================] - 2s 3ms/step - loss: 0.0329 - accuracy: 0.8404 - val_loss: 0.0319 - val_accuracy: 0.8500\n",
            "Epoch 166/200\n",
            "469/469 [==============================] - 2s 4ms/step - loss: 0.0328 - accuracy: 0.8410 - val_loss: 0.0318 - val_accuracy: 0.8501\n",
            "Epoch 167/200\n",
            "469/469 [==============================] - 2s 3ms/step - loss: 0.0326 - accuracy: 0.8419 - val_loss: 0.0316 - val_accuracy: 0.8504\n",
            "Epoch 168/200\n",
            "469/469 [==============================] - 2s 3ms/step - loss: 0.0324 - accuracy: 0.8428 - val_loss: 0.0315 - val_accuracy: 0.8508\n",
            "Epoch 169/200\n",
            "469/469 [==============================] - 2s 3ms/step - loss: 0.0323 - accuracy: 0.8437 - val_loss: 0.0313 - val_accuracy: 0.8517\n",
            "Epoch 170/200\n",
            "469/469 [==============================] - 2s 3ms/step - loss: 0.0321 - accuracy: 0.8442 - val_loss: 0.0312 - val_accuracy: 0.8520\n",
            "Epoch 171/200\n",
            "469/469 [==============================] - 2s 3ms/step - loss: 0.0320 - accuracy: 0.8450 - val_loss: 0.0310 - val_accuracy: 0.8529\n",
            "Epoch 172/200\n",
            "469/469 [==============================] - 2s 4ms/step - loss: 0.0318 - accuracy: 0.8457 - val_loss: 0.0309 - val_accuracy: 0.8536\n",
            "Epoch 173/200\n",
            "469/469 [==============================] - 2s 3ms/step - loss: 0.0317 - accuracy: 0.8465 - val_loss: 0.0307 - val_accuracy: 0.8541\n",
            "Epoch 174/200\n",
            "469/469 [==============================] - 2s 3ms/step - loss: 0.0315 - accuracy: 0.8471 - val_loss: 0.0306 - val_accuracy: 0.8547\n",
            "Epoch 175/200\n",
            "469/469 [==============================] - 2s 3ms/step - loss: 0.0314 - accuracy: 0.8476 - val_loss: 0.0304 - val_accuracy: 0.8552\n",
            "Epoch 176/200\n",
            "469/469 [==============================] - 2s 3ms/step - loss: 0.0313 - accuracy: 0.8484 - val_loss: 0.0303 - val_accuracy: 0.8559\n",
            "Epoch 177/200\n",
            "469/469 [==============================] - 2s 3ms/step - loss: 0.0311 - accuracy: 0.8492 - val_loss: 0.0301 - val_accuracy: 0.8566\n",
            "Epoch 178/200\n",
            "469/469 [==============================] - 2s 3ms/step - loss: 0.0310 - accuracy: 0.8498 - val_loss: 0.0300 - val_accuracy: 0.8567\n",
            "Epoch 179/200\n",
            "469/469 [==============================] - 2s 3ms/step - loss: 0.0308 - accuracy: 0.8505 - val_loss: 0.0299 - val_accuracy: 0.8576\n",
            "Epoch 180/200\n",
            "469/469 [==============================] - 2s 3ms/step - loss: 0.0307 - accuracy: 0.8513 - val_loss: 0.0297 - val_accuracy: 0.8582\n",
            "Epoch 181/200\n",
            "469/469 [==============================] - 2s 3ms/step - loss: 0.0306 - accuracy: 0.8517 - val_loss: 0.0296 - val_accuracy: 0.8588\n",
            "Epoch 182/200\n",
            "469/469 [==============================] - 2s 3ms/step - loss: 0.0304 - accuracy: 0.8522 - val_loss: 0.0295 - val_accuracy: 0.8596\n",
            "Epoch 183/200\n",
            "469/469 [==============================] - 2s 3ms/step - loss: 0.0303 - accuracy: 0.8528 - val_loss: 0.0293 - val_accuracy: 0.8596\n",
            "Epoch 184/200\n",
            "469/469 [==============================] - 2s 3ms/step - loss: 0.0302 - accuracy: 0.8532 - val_loss: 0.0292 - val_accuracy: 0.8604\n",
            "Epoch 185/200\n",
            "469/469 [==============================] - 2s 3ms/step - loss: 0.0300 - accuracy: 0.8537 - val_loss: 0.0291 - val_accuracy: 0.8606\n",
            "Epoch 186/200\n",
            "469/469 [==============================] - 2s 3ms/step - loss: 0.0299 - accuracy: 0.8544 - val_loss: 0.0289 - val_accuracy: 0.8617\n",
            "Epoch 187/200\n",
            "469/469 [==============================] - 2s 4ms/step - loss: 0.0298 - accuracy: 0.8547 - val_loss: 0.0288 - val_accuracy: 0.8621\n",
            "Epoch 188/200\n",
            "469/469 [==============================] - 2s 3ms/step - loss: 0.0297 - accuracy: 0.8549 - val_loss: 0.0287 - val_accuracy: 0.8628\n",
            "Epoch 189/200\n",
            "469/469 [==============================] - 2s 3ms/step - loss: 0.0295 - accuracy: 0.8556 - val_loss: 0.0286 - val_accuracy: 0.8632\n",
            "Epoch 190/200\n",
            "469/469 [==============================] - 2s 3ms/step - loss: 0.0294 - accuracy: 0.8560 - val_loss: 0.0284 - val_accuracy: 0.8633\n",
            "Epoch 191/200\n",
            "469/469 [==============================] - 2s 3ms/step - loss: 0.0293 - accuracy: 0.8565 - val_loss: 0.0283 - val_accuracy: 0.8637\n",
            "Epoch 192/200\n",
            "469/469 [==============================] - 2s 3ms/step - loss: 0.0292 - accuracy: 0.8569 - val_loss: 0.0282 - val_accuracy: 0.8640\n",
            "Epoch 193/200\n",
            "469/469 [==============================] - 2s 3ms/step - loss: 0.0291 - accuracy: 0.8574 - val_loss: 0.0281 - val_accuracy: 0.8647\n",
            "Epoch 194/200\n",
            "469/469 [==============================] - 2s 4ms/step - loss: 0.0290 - accuracy: 0.8578 - val_loss: 0.0280 - val_accuracy: 0.8650\n",
            "Epoch 195/200\n",
            "469/469 [==============================] - 2s 4ms/step - loss: 0.0288 - accuracy: 0.8582 - val_loss: 0.0278 - val_accuracy: 0.8654\n",
            "Epoch 196/200\n",
            "469/469 [==============================] - 2s 4ms/step - loss: 0.0287 - accuracy: 0.8586 - val_loss: 0.0277 - val_accuracy: 0.8661\n",
            "Epoch 197/200\n",
            "469/469 [==============================] - 2s 3ms/step - loss: 0.0286 - accuracy: 0.8590 - val_loss: 0.0276 - val_accuracy: 0.8666\n",
            "Epoch 198/200\n",
            "469/469 [==============================] - 2s 3ms/step - loss: 0.0285 - accuracy: 0.8594 - val_loss: 0.0275 - val_accuracy: 0.8670\n",
            "Epoch 199/200\n",
            "469/469 [==============================] - 2s 3ms/step - loss: 0.0284 - accuracy: 0.8596 - val_loss: 0.0274 - val_accuracy: 0.8672\n",
            "Epoch 200/200\n",
            "469/469 [==============================] - 2s 3ms/step - loss: 0.0283 - accuracy: 0.8600 - val_loss: 0.0273 - val_accuracy: 0.8673\n"
          ]
        },
        {
          "output_type": "execute_result",
          "data": {
            "text/plain": [
              "<keras.callbacks.History at 0x7f9226d3f250>"
            ]
          },
          "metadata": {},
          "execution_count": 23
        }
      ]
    },
    {
      "cell_type": "code",
      "metadata": {
        "id": "ykDsBpeXwtpE",
        "colab": {
          "base_uri": "https://localhost:8080/"
        },
        "outputId": "ae8f7851-8da6-47d5-b95e-f4db8ec0ca91"
      },
      "source": [
        "model.evaluate(X_valid, y_valid)"
      ],
      "execution_count": 24,
      "outputs": [
        {
          "output_type": "stream",
          "name": "stdout",
          "text": [
            "313/313 [==============================] - 1s 2ms/step - loss: 0.0273 - accuracy: 0.8673\n"
          ]
        },
        {
          "output_type": "execute_result",
          "data": {
            "text/plain": [
              "[0.027292510494589806, 0.8672999739646912]"
            ]
          },
          "metadata": {},
          "execution_count": 24
        }
      ]
    }
  ]
}